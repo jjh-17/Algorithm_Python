{
 "cells": [
  {
   "cell_type": "markdown",
   "id": "b42d6676",
   "metadata": {},
   "source": [
    "## 비밀 지도\n",
    "https://school.programmers.co.kr/learn/courses/30/lessons/17681"
   ]
  },
  {
   "cell_type": "code",
   "execution_count": 1,
   "id": "3a6005a7",
   "metadata": {},
   "outputs": [],
   "source": [
    "def solution(n, arr1, arr2):\n",
    "    answer = []\n",
    "    \n",
    "    for a1, a2 in zip(arr1, arr2):\n",
    "        a1_bin = (bin(a1))[2:]\n",
    "        a1_bin = '0'*(n-len(a1_bin))+a1_bin\n",
    "        \n",
    "        a2_bin = (bin(a2))[2:]\n",
    "        a2_bin = '0'*(n-len(a2_bin))+a2_bin\n",
    "    \n",
    "        temp = ''\n",
    "        for bin1, bin2 in zip(a1_bin, a2_bin):\n",
    "            temp += (' ' if bin1=='0' and bin2=='0' else '#')\n",
    "        answer.append(temp)\n",
    "        \n",
    "    \n",
    "    return answer"
   ]
  },
  {
   "cell_type": "code",
   "execution_count": null,
   "id": "4dd1cd04",
   "metadata": {},
   "outputs": [],
   "source": []
  }
 ],
 "metadata": {
  "kernelspec": {
   "display_name": "Python 3 (ipykernel)",
   "language": "python",
   "name": "python3"
  },
  "language_info": {
   "codemirror_mode": {
    "name": "ipython",
    "version": 3
   },
   "file_extension": ".py",
   "mimetype": "text/x-python",
   "name": "python",
   "nbconvert_exporter": "python",
   "pygments_lexer": "ipython3",
   "version": "3.9.12"
  }
 },
 "nbformat": 4,
 "nbformat_minor": 5
}
