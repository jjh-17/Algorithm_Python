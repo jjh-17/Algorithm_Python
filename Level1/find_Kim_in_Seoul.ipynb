{
 "cells": [
  {
   "cell_type": "markdown",
   "id": "3e198ec4",
   "metadata": {},
   "source": [
    "## 서울에서 김서방 찾기\n",
    "https://school.programmers.co.kr/learn/courses/30/lessons/12919"
   ]
  },
  {
   "cell_type": "code",
   "execution_count": 1,
   "id": "30fa9424",
   "metadata": {},
   "outputs": [],
   "source": [
    "def solution(seoul):\n",
    "    answer = '김서방은 ' + str(seoul.index('Kim')) + '에 있다'\n",
    "    \n",
    "    return answer"
   ]
  },
  {
   "cell_type": "code",
   "execution_count": null,
   "id": "556e4534",
   "metadata": {},
   "outputs": [],
   "source": []
  }
 ],
 "metadata": {
  "kernelspec": {
   "display_name": "Python 3 (ipykernel)",
   "language": "python",
   "name": "python3"
  },
  "language_info": {
   "codemirror_mode": {
    "name": "ipython",
    "version": 3
   },
   "file_extension": ".py",
   "mimetype": "text/x-python",
   "name": "python",
   "nbconvert_exporter": "python",
   "pygments_lexer": "ipython3",
   "version": "3.9.12"
  }
 },
 "nbformat": 4,
 "nbformat_minor": 5
}
