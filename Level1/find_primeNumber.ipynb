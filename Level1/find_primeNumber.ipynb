{
 "cells": [
  {
   "cell_type": "markdown",
   "id": "5902cd0f",
   "metadata": {},
   "source": [
    "## 소수 찾기\n",
    "https://school.programmers.co.kr/learn/courses/30/lessons/12921"
   ]
  },
  {
   "cell_type": "code",
   "execution_count": 1,
   "id": "b65c14b0",
   "metadata": {},
   "outputs": [],
   "source": [
    "def solution(n):\n",
    "    answer = 0\n",
    "    arr = set(range(2, n+1))\n",
    "    \n",
    "    for i in range(2, n+1):\n",
    "        if i in arr:\n",
    "            arr -= set(range(i*2, n+1, i))  #i*2 부터 n+1까지 i의 배수 제거\n",
    "            \n",
    "    answer = len(arr)\n",
    "    \n",
    "    return answer"
   ]
  },
  {
   "cell_type": "code",
   "execution_count": null,
   "id": "b6908cdb",
   "metadata": {},
   "outputs": [],
   "source": []
  }
 ],
 "metadata": {
  "kernelspec": {
   "display_name": "Python 3 (ipykernel)",
   "language": "python",
   "name": "python3"
  },
  "language_info": {
   "codemirror_mode": {
    "name": "ipython",
    "version": 3
   },
   "file_extension": ".py",
   "mimetype": "text/x-python",
   "name": "python",
   "nbconvert_exporter": "python",
   "pygments_lexer": "ipython3",
   "version": "3.9.12"
  }
 },
 "nbformat": 4,
 "nbformat_minor": 5
}
