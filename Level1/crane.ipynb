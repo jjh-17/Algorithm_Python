{
 "cells": [
  {
   "cell_type": "markdown",
   "id": "96a26e72",
   "metadata": {},
   "source": [
    "## 크레인 인형뽑기\n",
    "https://school.programmers.co.kr/learn/courses/30/lessons/64061"
   ]
  },
  {
   "cell_type": "code",
   "execution_count": 1,
   "id": "39d6b404",
   "metadata": {},
   "outputs": [],
   "source": [
    "import numpy as np\n",
    "\n",
    "def solution(board, moves):\n",
    "    answer = 0\n",
    "    result_arr = []\n",
    "    n = np.shape(board)[0]\n",
    "    \n",
    "    for move in moves:\n",
    "        for i in range(n):\n",
    "            if board[i][move-1] != 0:\n",
    "                result_arr.append(board[i][move-1])\n",
    "                board[i][move-1] = 0\n",
    "                if len(result_arr) >= 2:\n",
    "                    if result_arr[-1] == result_arr[-2]:\n",
    "                        result_arr.pop()\n",
    "                        result_arr.pop()\n",
    "                        answer+=2\n",
    "                break\n",
    "    \n",
    "    return answer"
   ]
  },
  {
   "cell_type": "code",
   "execution_count": null,
   "id": "e2f34d40",
   "metadata": {},
   "outputs": [],
   "source": []
  }
 ],
 "metadata": {
  "kernelspec": {
   "display_name": "Python 3 (ipykernel)",
   "language": "python",
   "name": "python3"
  },
  "language_info": {
   "codemirror_mode": {
    "name": "ipython",
    "version": 3
   },
   "file_extension": ".py",
   "mimetype": "text/x-python",
   "name": "python",
   "nbconvert_exporter": "python",
   "pygments_lexer": "ipython3",
   "version": "3.9.12"
  }
 },
 "nbformat": 4,
 "nbformat_minor": 5
}
