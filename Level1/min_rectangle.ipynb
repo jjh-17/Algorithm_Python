{
 "cells": [
  {
   "cell_type": "markdown",
   "id": "7c3a387e",
   "metadata": {},
   "source": [
    "## 최소 직사각형\n",
    "https://school.programmers.co.kr/learn/courses/30/lessons/86491"
   ]
  },
  {
   "cell_type": "code",
   "execution_count": 1,
   "id": "4a584c02",
   "metadata": {},
   "outputs": [],
   "source": [
    "def solution(sizes):\n",
    "    answer = 0\n",
    "    a = []  #가로\n",
    "    b = []  #세로\n",
    "    \n",
    "    for size in sizes:\n",
    "        if size[0] < size[1]:\n",
    "            a.append(size[1])\n",
    "            b.append(size[0])\n",
    "        else:\n",
    "            a.append(size[0])\n",
    "            b.append(size[1])\n",
    "            \n",
    "    answer = max(a) * max(b)\n",
    "    \n",
    "    return answer"
   ]
  },
  {
   "cell_type": "code",
   "execution_count": null,
   "id": "ba270807",
   "metadata": {},
   "outputs": [],
   "source": []
  }
 ],
 "metadata": {
  "kernelspec": {
   "display_name": "Python 3 (ipykernel)",
   "language": "python",
   "name": "python3"
  },
  "language_info": {
   "codemirror_mode": {
    "name": "ipython",
    "version": 3
   },
   "file_extension": ".py",
   "mimetype": "text/x-python",
   "name": "python",
   "nbconvert_exporter": "python",
   "pygments_lexer": "ipython3",
   "version": "3.9.12"
  }
 },
 "nbformat": 4,
 "nbformat_minor": 5
}
