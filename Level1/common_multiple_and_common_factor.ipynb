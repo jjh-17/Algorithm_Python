{
 "cells": [
  {
   "cell_type": "markdown",
   "id": "c566fb65",
   "metadata": {},
   "source": [
    "## 최대공약수와 최소공배수\n",
    "https://school.programmers.co.kr/learn/courses/30/lessons/12940"
   ]
  },
  {
   "cell_type": "code",
   "execution_count": 1,
   "id": "a1291d27",
   "metadata": {},
   "outputs": [],
   "source": [
    "def solution(n, m):\n",
    "    answer = []\n",
    "    small = min(n, m)\n",
    "    big = max(n, m)\n",
    "    \n",
    "    #최대공약수\n",
    "    for i in range(small):\n",
    "        if big%(small-i) == 0 and small%(small-i)==0:\n",
    "            answer.append(small-i)\n",
    "            break\n",
    "            \n",
    "    \n",
    "    #최소 공배수\n",
    "    a = 1\n",
    "    while True:\n",
    "        if (small*a)%big == 0:\n",
    "            answer.append(small*a)\n",
    "            break\n",
    "        a+=1\n",
    "        \n",
    "    return answer"
   ]
  },
  {
   "cell_type": "code",
   "execution_count": null,
   "id": "872af5a3",
   "metadata": {},
   "outputs": [],
   "source": []
  }
 ],
 "metadata": {
  "kernelspec": {
   "display_name": "Python 3 (ipykernel)",
   "language": "python",
   "name": "python3"
  },
  "language_info": {
   "codemirror_mode": {
    "name": "ipython",
    "version": 3
   },
   "file_extension": ".py",
   "mimetype": "text/x-python",
   "name": "python",
   "nbconvert_exporter": "python",
   "pygments_lexer": "ipython3",
   "version": "3.9.12"
  }
 },
 "nbformat": 4,
 "nbformat_minor": 5
}
