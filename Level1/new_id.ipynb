{
 "cells": [
  {
   "cell_type": "markdown",
   "id": "a6d572d0",
   "metadata": {},
   "source": [
    "## 신규 아이디 추천\n",
    "https://school.programmers.co.kr/learn/courses/30/lessons/72410"
   ]
  },
  {
   "cell_type": "code",
   "execution_count": 1,
   "id": "033bc3b3",
   "metadata": {},
   "outputs": [],
   "source": [
    "def solution(new_id):\n",
    "    answer = ''\n",
    "    \n",
    "    #1\n",
    "    new_id = new_id.lower()\n",
    "    \n",
    "    #2\n",
    "    for i in new_id:\n",
    "        if ('a'<=i and i<='z') or ('0'<=i and i<='9') or i in ['-', '_', '.']:\n",
    "            answer += i\n",
    "    \n",
    "    #3\n",
    "    while '..' in answer:\n",
    "        answer = answer.replace('..', '.')\n",
    "    \n",
    "    #4\n",
    "    if len(answer) > 0:\n",
    "        if answer[0] == '.':\n",
    "            answer = answer[1:]\n",
    "    if len(answer) > 0:\n",
    "        if answer[-1] == '.':\n",
    "            answer = answer[:-1]\n",
    "    \n",
    "    \n",
    "    #5\n",
    "    if len(answer) == 0:\n",
    "        answer = 'a'\n",
    "    \n",
    "    \n",
    "    #6\n",
    "    if len(answer) >= 16:\n",
    "        answer = answer[:15]\n",
    "        if answer[-1] == '.':\n",
    "            answer = answer[:-1]\n",
    "    \n",
    "    #7\n",
    "    while len(answer) < 3:\n",
    "        answer += answer[-1]\n",
    "  \n",
    "    \n",
    "    return answer\n",
    "    \n",
    "    "
   ]
  },
  {
   "cell_type": "code",
   "execution_count": null,
   "id": "5f22cd3c",
   "metadata": {},
   "outputs": [],
   "source": []
  }
 ],
 "metadata": {
  "kernelspec": {
   "display_name": "Python 3 (ipykernel)",
   "language": "python",
   "name": "python3"
  },
  "language_info": {
   "codemirror_mode": {
    "name": "ipython",
    "version": 3
   },
   "file_extension": ".py",
   "mimetype": "text/x-python",
   "name": "python",
   "nbconvert_exporter": "python",
   "pygments_lexer": "ipython3",
   "version": "3.9.12"
  }
 },
 "nbformat": 4,
 "nbformat_minor": 5
}
