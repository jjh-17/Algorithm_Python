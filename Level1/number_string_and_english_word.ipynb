{
 "cells": [
  {
   "cell_type": "markdown",
   "id": "18c2d94c",
   "metadata": {},
   "source": [
    "## 숫자 문자열과 영단어\n",
    "https://school.programmers.co.kr/learn/courses/30/lessons/81301"
   ]
  },
  {
   "cell_type": "code",
   "execution_count": 1,
   "id": "bb99f90c",
   "metadata": {},
   "outputs": [],
   "source": [
    "'''\n",
    "문자열 확인\n",
    "1. isalpha()   : 문자열이 알파벳으로만 구성되었는가?\n",
    "2. isdecimal() : 문자열을 int로 변환 가능한가\n",
    "3. isnumeric() : 문자열이 숫자값으로 표현 가능한가\n",
    "4. isdigit()   : 문자열이 숫자의 형태인가\n",
    "5. isalnum()   : 문자열이 알파벳 및 숫자값으로 표현 가능한가\n",
    "'''\n",
    "\n",
    "def solution(s):\n",
    "    answer = 0\n",
    "    dic = {'zero':0, 'one':1, 'two':2,'three':3,'four':4,\n",
    "           'five':5,'six':6,'seven':7,'eight':8,'nine':9,}\n",
    "    \n",
    "    while not s.isdigit():\n",
    "        for w in dic.keys():\n",
    "            if w in s:\n",
    "                s = s.replace(w, str(dic[w]))\n",
    "                break\n",
    "    \n",
    "    answer = int(s)\n",
    "    \n",
    "    return answer"
   ]
  },
  {
   "cell_type": "code",
   "execution_count": null,
   "id": "1252c95c",
   "metadata": {},
   "outputs": [],
   "source": []
  }
 ],
 "metadata": {
  "kernelspec": {
   "display_name": "Python 3 (ipykernel)",
   "language": "python",
   "name": "python3"
  },
  "language_info": {
   "codemirror_mode": {
    "name": "ipython",
    "version": 3
   },
   "file_extension": ".py",
   "mimetype": "text/x-python",
   "name": "python",
   "nbconvert_exporter": "python",
   "pygments_lexer": "ipython3",
   "version": "3.9.12"
  }
 },
 "nbformat": 4,
 "nbformat_minor": 5
}
