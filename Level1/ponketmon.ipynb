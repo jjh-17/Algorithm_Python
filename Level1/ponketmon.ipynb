{
 "cells": [
  {
   "cell_type": "markdown",
   "id": "6744feeb",
   "metadata": {},
   "source": [
    "## 폰켓몬\n",
    "https://school.programmers.co.kr/learn/courses/30/lessons/1845"
   ]
  },
  {
   "cell_type": "code",
   "execution_count": 1,
   "id": "8976f96c",
   "metadata": {},
   "outputs": [],
   "source": [
    "def solution(nums):\n",
    "    answer = min(len(nums)//2, len(set(nums)))\n",
    "    \n",
    "    return answer"
   ]
  },
  {
   "cell_type": "code",
   "execution_count": null,
   "id": "654e8a1a",
   "metadata": {},
   "outputs": [],
   "source": []
  }
 ],
 "metadata": {
  "kernelspec": {
   "display_name": "Python 3 (ipykernel)",
   "language": "python",
   "name": "python3"
  },
  "language_info": {
   "codemirror_mode": {
    "name": "ipython",
    "version": 3
   },
   "file_extension": ".py",
   "mimetype": "text/x-python",
   "name": "python",
   "nbconvert_exporter": "python",
   "pygments_lexer": "ipython3",
   "version": "3.9.12"
  }
 },
 "nbformat": 4,
 "nbformat_minor": 5
}
