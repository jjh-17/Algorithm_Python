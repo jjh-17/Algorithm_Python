{
 "cells": [
  {
   "cell_type": "markdown",
   "id": "438c6c7e",
   "metadata": {},
   "source": [
    "## 개인정보 수집 유효기간\n",
    "https://school.programmers.co.kr/learn/courses/30/lessons/150370"
   ]
  },
  {
   "cell_type": "code",
   "execution_count": 1,
   "id": "e72409a2",
   "metadata": {},
   "outputs": [],
   "source": [
    "def solution(today, terms, privacies):\n",
    "    answer = []\n",
    "    term_dic = {} #약관의 종류에 따른 유효기간\n",
    "    privacy_arr = []\n",
    "    \n",
    "    for term in terms:\n",
    "        a, b = term.split(' ')\n",
    "        term_dic[a] = int(b)\n",
    "    \n",
    "    for privacy in privacies:\n",
    "        date, term = privacy.split(' ')\n",
    "        t_year, t_month, t_day = date.split('.')\n",
    "        t_year, t_month, t_day = int(t_year), int(t_month), int(t_day)\n",
    "        \n",
    "        month = term_dic[term]\n",
    "        t_year += month//12\n",
    "        \n",
    "        if (month%12 + t_month) > 12:\n",
    "            t_month = month%12 + t_month - 12\n",
    "            t_year+=1\n",
    "        else:\n",
    "            t_month = month%12 + t_month\n",
    "            \n",
    "        if (t_day == 1):\n",
    "            t_day = 28\n",
    "            if t_month == 1:\n",
    "                t_month = 12\n",
    "                t_year-=1\n",
    "            else:\n",
    "                t_month -= 1\n",
    "        else:\n",
    "            t_day -= 1\n",
    "        \n",
    "        privacy_arr.append(str(t_year)+\n",
    "                            '.' + ('0' if t_month<10 else '') + str(t_month) + \n",
    "                            '.' + ('0' if t_day<10 else '') + str(t_day))\n",
    "        \n",
    "    for i, v in enumerate(privacy_arr):\n",
    "        if v < today:\n",
    "            answer.append(i+1)\n",
    "   \n",
    "    return answer"
   ]
  },
  {
   "cell_type": "code",
   "execution_count": null,
   "id": "8b897eb2",
   "metadata": {},
   "outputs": [],
   "source": []
  }
 ],
 "metadata": {
  "kernelspec": {
   "display_name": "Python 3 (ipykernel)",
   "language": "python",
   "name": "python3"
  },
  "language_info": {
   "codemirror_mode": {
    "name": "ipython",
    "version": 3
   },
   "file_extension": ".py",
   "mimetype": "text/x-python",
   "name": "python",
   "nbconvert_exporter": "python",
   "pygments_lexer": "ipython3",
   "version": "3.9.12"
  }
 },
 "nbformat": 4,
 "nbformat_minor": 5
}
