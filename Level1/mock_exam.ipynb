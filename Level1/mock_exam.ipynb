{
 "cells": [
  {
   "cell_type": "markdown",
   "id": "3f831265",
   "metadata": {},
   "source": [
    "## 모의 고사\n",
    "https://school.programmers.co.kr/learn/courses/30/lessons/42840"
   ]
  },
  {
   "cell_type": "code",
   "execution_count": 1,
   "id": "f772a554",
   "metadata": {},
   "outputs": [],
   "source": [
    "def solution(answers):\n",
    "    answer = []\n",
    "    arr1 = [1, 2, 3, 4, 5]\n",
    "    arr2 = [2, 1, 2, 3, 2, 4, 2, 5]\n",
    "    arr3 = [3, 3, 1, 1, 2, 2, 4, 4, 5, 5]\n",
    "    score1, score2, score3 = 0, 0, 0\n",
    "    \n",
    "    \n",
    "    for i, ans in enumerate(answers):\n",
    "        if arr1[i%5] == ans:\n",
    "            score1+=1\n",
    "        if arr2[i%8] == ans:\n",
    "            score2+=1\n",
    "        if arr3[i%10] == ans:\n",
    "            score3+=1\n",
    "    \n",
    "    max_score = max(score1, score2, score3)\n",
    "    if score1 == max_score:\n",
    "        answer.append(1)\n",
    "    if score2 == max_score:\n",
    "        answer.append(2)\n",
    "    if score3 == max_score:\n",
    "        answer.append(3)\n",
    "        \n",
    "    return answer"
   ]
  },
  {
   "cell_type": "code",
   "execution_count": null,
   "id": "8ee59894",
   "metadata": {},
   "outputs": [],
   "source": []
  }
 ],
 "metadata": {
  "kernelspec": {
   "display_name": "Python 3 (ipykernel)",
   "language": "python",
   "name": "python3"
  },
  "language_info": {
   "codemirror_mode": {
    "name": "ipython",
    "version": 3
   },
   "file_extension": ".py",
   "mimetype": "text/x-python",
   "name": "python",
   "nbconvert_exporter": "python",
   "pygments_lexer": "ipython3",
   "version": "3.9.12"
  }
 },
 "nbformat": 4,
 "nbformat_minor": 5
}
