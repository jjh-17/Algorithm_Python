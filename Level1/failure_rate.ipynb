{
 "cells": [
  {
   "cell_type": "markdown",
   "id": "f318dc32",
   "metadata": {},
   "source": [
    "## 실패율\n",
    "https://school.programmers.co.kr/learn/courses/30/lessons/42889"
   ]
  },
  {
   "cell_type": "code",
   "execution_count": 1,
   "id": "84162cdc",
   "metadata": {},
   "outputs": [],
   "source": [
    "from collections import Counter\n",
    "\n",
    "def solution(N, stages):\n",
    "    answer = []\n",
    "    counter = Counter(stages)\n",
    "    fail = dict()\n",
    "    \n",
    "    #스테이지 별 실패율\n",
    "    current_N = len(stages)\n",
    "    for i in range(1, N+1):\n",
    "        if current_N==0:\n",
    "            fail[i] = 0\n",
    "            continue\n",
    "        if i not in counter.keys():\n",
    "            counter[i] = 0\n",
    "        fail[i] = counter[i]/current_N\n",
    "        current_N-=counter[i]\n",
    "    answer = sorted(fail.keys(), key = lambda x : -fail[x])\n",
    "    \n",
    "    return answer"
   ]
  },
  {
   "cell_type": "code",
   "execution_count": null,
   "id": "48d19129",
   "metadata": {},
   "outputs": [],
   "source": []
  }
 ],
 "metadata": {
  "kernelspec": {
   "display_name": "Python 3 (ipykernel)",
   "language": "python",
   "name": "python3"
  },
  "language_info": {
   "codemirror_mode": {
    "name": "ipython",
    "version": 3
   },
   "file_extension": ".py",
   "mimetype": "text/x-python",
   "name": "python",
   "nbconvert_exporter": "python",
   "pygments_lexer": "ipython3",
   "version": "3.9.12"
  }
 },
 "nbformat": 4,
 "nbformat_minor": 5
}
