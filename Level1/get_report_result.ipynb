{
 "cells": [
  {
   "cell_type": "markdown",
   "id": "2968f586",
   "metadata": {},
   "source": [
    "## 신고 결과 받기\n",
    "https://school.programmers.co.kr/learn/courses/30/lessons/92334"
   ]
  },
  {
   "cell_type": "code",
   "execution_count": 1,
   "id": "2beb275c",
   "metadata": {},
   "outputs": [],
   "source": [
    "from collections import defaultdict\n",
    "\n",
    "def solution(id_list, report, k):\n",
    "    answer = [0]*len(id_list)\n",
    "    reported_dic = defaultdict(lambda : 0)\n",
    "    report_dic = defaultdict(lambda : []) #각 id별 신고한 id 목록\n",
    "    \n",
    "    for r in report:\n",
    "        user, reported = r.split(' ')\n",
    "        if reported not in report_dic[user]:\n",
    "            reported_dic[reported] += 1\n",
    "            report_dic[user].append(reported)\n",
    "    \n",
    "    for i, user in enumerate(id_list):\n",
    "        for reported in report_dic[user]:\n",
    "            if reported_dic[reported] >= k:\n",
    "                answer[i]+=1\n",
    "    \n",
    "    \n",
    "    return answer"
   ]
  },
  {
   "cell_type": "code",
   "execution_count": null,
   "id": "81522f44",
   "metadata": {},
   "outputs": [],
   "source": []
  }
 ],
 "metadata": {
  "kernelspec": {
   "display_name": "Python 3 (ipykernel)",
   "language": "python",
   "name": "python3"
  },
  "language_info": {
   "codemirror_mode": {
    "name": "ipython",
    "version": 3
   },
   "file_extension": ".py",
   "mimetype": "text/x-python",
   "name": "python",
   "nbconvert_exporter": "python",
   "pygments_lexer": "ipython3",
   "version": "3.9.12"
  }
 },
 "nbformat": 4,
 "nbformat_minor": 5
}
