{
 "cells": [
  {
   "cell_type": "markdown",
   "id": "27aa435b",
   "metadata": {},
   "source": [
    "## 로또의 최고 순위와 최저 순위\n",
    "https://school.programmers.co.kr/learn/courses/30/lessons/77484"
   ]
  },
  {
   "cell_type": "code",
   "execution_count": 1,
   "id": "a69e8bd6",
   "metadata": {},
   "outputs": [],
   "source": [
    "def solution(lottos, win_nums):\n",
    "    answer = []\n",
    "    max_l = 0\n",
    "    min_l = 0\n",
    "    \n",
    "    for l in lottos:\n",
    "        if l==0:\n",
    "            max_l+=1\n",
    "        else:\n",
    "            if l in win_nums:\n",
    "                max_l+=1\n",
    "                min_l+=1\n",
    "                \n",
    "    answer = [min(6, 7-max_l), min(6, 7-min_l)]\n",
    "    \n",
    "    \n",
    "    \n",
    "    return answer"
   ]
  },
  {
   "cell_type": "code",
   "execution_count": null,
   "id": "c3b0c855",
   "metadata": {},
   "outputs": [],
   "source": []
  }
 ],
 "metadata": {
  "kernelspec": {
   "display_name": "Python 3 (ipykernel)",
   "language": "python",
   "name": "python3"
  },
  "language_info": {
   "codemirror_mode": {
    "name": "ipython",
    "version": 3
   },
   "file_extension": ".py",
   "mimetype": "text/x-python",
   "name": "python",
   "nbconvert_exporter": "python",
   "pygments_lexer": "ipython3",
   "version": "3.9.12"
  }
 },
 "nbformat": 4,
 "nbformat_minor": 5
}
