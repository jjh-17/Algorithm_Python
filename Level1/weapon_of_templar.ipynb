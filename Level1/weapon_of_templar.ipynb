{
 "cells": [
  {
   "cell_type": "markdown",
   "id": "1920a645",
   "metadata": {},
   "source": [
    "## 기사단원 무기\n",
    "https://school.programmers.co.kr/learn/courses/30/lessons/136798"
   ]
  },
  {
   "cell_type": "code",
   "execution_count": 1,
   "id": "bf6fa416",
   "metadata": {},
   "outputs": [],
   "source": [
    "def solution(number, limit, power):\n",
    "    answer = 0\n",
    "    \n",
    "    for num in range(1, number+1):\n",
    "        current_pow = 0\n",
    "        \n",
    "        for i in range(1, int(num**0.5) + 1):\n",
    "            if num%i==0:\n",
    "                if i==(num//i): #제곱근일 때\n",
    "                    current_pow += 1\n",
    "                else:\n",
    "                    current_pow += 2 #현재 값, 기존 값/현재 값 추가\n",
    "        if current_pow > limit:\n",
    "            answer += power\n",
    "        else:\n",
    "            answer += current_pow\n",
    "                    \n",
    "    \n",
    "    return answer"
   ]
  },
  {
   "cell_type": "code",
   "execution_count": null,
   "id": "b2a11918",
   "metadata": {},
   "outputs": [],
   "source": []
  }
 ],
 "metadata": {
  "kernelspec": {
   "display_name": "Python 3 (ipykernel)",
   "language": "python",
   "name": "python3"
  },
  "language_info": {
   "codemirror_mode": {
    "name": "ipython",
    "version": 3
   },
   "file_extension": ".py",
   "mimetype": "text/x-python",
   "name": "python",
   "nbconvert_exporter": "python",
   "pygments_lexer": "ipython3",
   "version": "3.9.12"
  }
 },
 "nbformat": 4,
 "nbformat_minor": 5
}
