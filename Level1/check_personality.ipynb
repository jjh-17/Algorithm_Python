{
 "cells": [
  {
   "cell_type": "markdown",
   "id": "75996869",
   "metadata": {},
   "source": [
    "## 성격 유형 검사하기\n",
    "https://school.programmers.co.kr/learn/courses/30/lessons/118666"
   ]
  },
  {
   "cell_type": "code",
   "execution_count": 1,
   "id": "29e4f648",
   "metadata": {},
   "outputs": [],
   "source": [
    "from collections import defaultdict\n",
    "\n",
    "def solution(survey, choices):\n",
    "    answer = ''\n",
    "    score_dic = defaultdict(lambda:0)\n",
    "    score = ['RT', 'CF', 'JM', 'AN']\n",
    "    \n",
    "    for s, c in zip(survey, choices):\n",
    "        if c < 4:\n",
    "            score_dic[s[0]] += (4-c)\n",
    "        elif c > 4:\n",
    "            score_dic[s[1]] += (c-4)\n",
    "            \n",
    "    for s in score:\n",
    "        s1 = s[0]\n",
    "        s2 = s[1]\n",
    "        if score_dic[s1] > score_dic[s2]:\n",
    "            answer += s1\n",
    "        elif score_dic[s1] == score_dic[s2]:\n",
    "            answer+=min(s1, s2)\n",
    "        else:\n",
    "            answer += s2\n",
    "    \n",
    "    \n",
    "    return answer"
   ]
  },
  {
   "cell_type": "code",
   "execution_count": null,
   "id": "af2bbd4d",
   "metadata": {},
   "outputs": [],
   "source": []
  }
 ],
 "metadata": {
  "kernelspec": {
   "display_name": "Python 3 (ipykernel)",
   "language": "python",
   "name": "python3"
  },
  "language_info": {
   "codemirror_mode": {
    "name": "ipython",
    "version": 3
   },
   "file_extension": ".py",
   "mimetype": "text/x-python",
   "name": "python",
   "nbconvert_exporter": "python",
   "pygments_lexer": "ipython3",
   "version": "3.9.12"
  }
 },
 "nbformat": 4,
 "nbformat_minor": 5
}
