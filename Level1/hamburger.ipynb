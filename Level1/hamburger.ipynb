{
 "cells": [
  {
   "cell_type": "markdown",
   "id": "be3725d8",
   "metadata": {},
   "source": [
    "## 햄버거 만들기\n",
    "https://school.programmers.co.kr/learn/courses/30/lessons/133502"
   ]
  },
  {
   "cell_type": "code",
   "execution_count": 1,
   "id": "548a866f",
   "metadata": {},
   "outputs": [],
   "source": [
    "from collections import deque\n",
    "\n",
    "def solution(ingredient):\n",
    "    answer = 0\n",
    "    queue = deque()\n",
    "    \n",
    "    for i in range(len(ingredient)):\n",
    "        queue.append(ingredient[i])\n",
    "        \n",
    "        if len(queue) >= 4:\n",
    "            if queue[len(queue)-1] == 1 and queue[len(queue)-2] == 3 and queue[len(queue)-3] == 2 and queue[len(queue)-4] == 1:\n",
    "                queue.pop()\n",
    "                queue.pop()\n",
    "                queue.pop()\n",
    "                queue.pop()\n",
    "                answer += 1\n",
    "    \n",
    "    return answer"
   ]
  },
  {
   "cell_type": "code",
   "execution_count": null,
   "id": "1ed4c92b",
   "metadata": {},
   "outputs": [],
   "source": []
  }
 ],
 "metadata": {
  "kernelspec": {
   "display_name": "Python 3 (ipykernel)",
   "language": "python",
   "name": "python3"
  },
  "language_info": {
   "codemirror_mode": {
    "name": "ipython",
    "version": 3
   },
   "file_extension": ".py",
   "mimetype": "text/x-python",
   "name": "python",
   "nbconvert_exporter": "python",
   "pygments_lexer": "ipython3",
   "version": "3.9.12"
  }
 },
 "nbformat": 4,
 "nbformat_minor": 5
}
