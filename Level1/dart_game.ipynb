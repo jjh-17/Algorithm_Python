{
 "cells": [
  {
   "cell_type": "markdown",
   "id": "c310b8ce",
   "metadata": {},
   "source": [
    "## 다트 게임\n",
    "https://school.programmers.co.kr/learn/courses/30/lessons/17682"
   ]
  },
  {
   "cell_type": "code",
   "execution_count": 1,
   "id": "5f10247d",
   "metadata": {},
   "outputs": [],
   "source": [
    "def solution(dartResult):\n",
    "    answer = 0\n",
    "    bonus = {'S':1, 'D':2, 'T':3}\n",
    "    current_score = []\n",
    "    \n",
    "    current_num = 0\n",
    "    count = 0\n",
    "    for i, w in enumerate(dartResult):\n",
    "        if w.isdigit():\n",
    "            if w == '0':\n",
    "                current_num = 10 if (i > 0 and dartResult[i-1] == '1') else 0\n",
    "            else:\n",
    "                current_num = int(w)\n",
    "        elif w.isalpha():\n",
    "            current_score.append(current_num**bonus[w])\n",
    "            count += 1\n",
    "        else: #옵션\n",
    "            if w == '*':\n",
    "                current_score[count-1] = current_score[count-1]*2\n",
    "                if count-2 >= 0:\n",
    "                    current_score[count-2] = current_score[count-2]*2\n",
    "            else:\n",
    "                current_score[count-1] = -current_score[count-1]\n",
    "                \n",
    "    answer = sum(current_score)\n",
    "    \n",
    "    return answer"
   ]
  },
  {
   "cell_type": "code",
   "execution_count": null,
   "id": "56b67aed",
   "metadata": {},
   "outputs": [],
   "source": []
  }
 ],
 "metadata": {
  "kernelspec": {
   "display_name": "Python 3 (ipykernel)",
   "language": "python",
   "name": "python3"
  },
  "language_info": {
   "codemirror_mode": {
    "name": "ipython",
    "version": 3
   },
   "file_extension": ".py",
   "mimetype": "text/x-python",
   "name": "python",
   "nbconvert_exporter": "python",
   "pygments_lexer": "ipython3",
   "version": "3.9.12"
  }
 },
 "nbformat": 4,
 "nbformat_minor": 5
}
