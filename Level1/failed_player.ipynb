{
 "cells": [
  {
   "cell_type": "markdown",
   "id": "c6fe72b7",
   "metadata": {},
   "source": [
    "## 완주하지 못한 선수\n",
    "https://school.programmers.co.kr/learn/courses/30/lessons/42576"
   ]
  },
  {
   "cell_type": "code",
   "execution_count": 1,
   "id": "a80e2fd4",
   "metadata": {},
   "outputs": [],
   "source": [
    "def solution(participant, completion):\n",
    "    hash_sum = 0\n",
    "    dic = dict()\n",
    "    \n",
    "    for p in participant:\n",
    "        dic[hash(p)] = p\n",
    "        hash_sum+=hash(p)\n",
    "    \n",
    "    for c in completion:\n",
    "        hash_sum-=hash(c)\n",
    "    \n",
    "    \n",
    "    return dic[hash_sum]"
   ]
  },
  {
   "cell_type": "code",
   "execution_count": null,
   "id": "d1ba80aa",
   "metadata": {},
   "outputs": [],
   "source": []
  }
 ],
 "metadata": {
  "kernelspec": {
   "display_name": "Python 3 (ipykernel)",
   "language": "python",
   "name": "python3"
  },
  "language_info": {
   "codemirror_mode": {
    "name": "ipython",
    "version": 3
   },
   "file_extension": ".py",
   "mimetype": "text/x-python",
   "name": "python",
   "nbconvert_exporter": "python",
   "pygments_lexer": "ipython3",
   "version": "3.9.12"
  }
 },
 "nbformat": 4,
 "nbformat_minor": 5
}
