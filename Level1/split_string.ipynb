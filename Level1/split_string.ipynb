{
 "cells": [
  {
   "cell_type": "markdown",
   "id": "e3583ee9",
   "metadata": {},
   "source": [
    "## 문자열 나누기\n",
    "https://school.programmers.co.kr/learn/courses/30/lessons/140108"
   ]
  },
  {
   "cell_type": "code",
   "execution_count": 1,
   "id": "2dc3486a",
   "metadata": {},
   "outputs": [],
   "source": [
    "def solution(s):\n",
    "    answer = 0\n",
    "    x = ''\n",
    "    score_arr = [0, 0]\n",
    "    length = len(s)\n",
    "    \n",
    "    for i in range(length):\n",
    "        if x == '':\n",
    "            x = s[i]\n",
    "            score_arr[0] += 1\n",
    "        else:\n",
    "            score_arr[0 if x==s[i] else 1] += 1\n",
    "            if score_arr[0] == score_arr[1]:\n",
    "                score_arr = [0, 0]\n",
    "                answer+=1\n",
    "                x = ''\n",
    "        \n",
    "    if score_arr != [0, 0]:\n",
    "        answer+=1\n",
    "    \n",
    "    return answer"
   ]
  },
  {
   "cell_type": "code",
   "execution_count": null,
   "id": "8e85158c",
   "metadata": {},
   "outputs": [],
   "source": []
  }
 ],
 "metadata": {
  "kernelspec": {
   "display_name": "Python 3 (ipykernel)",
   "language": "python",
   "name": "python3"
  },
  "language_info": {
   "codemirror_mode": {
    "name": "ipython",
    "version": 3
   },
   "file_extension": ".py",
   "mimetype": "text/x-python",
   "name": "python",
   "nbconvert_exporter": "python",
   "pygments_lexer": "ipython3",
   "version": "3.9.12"
  }
 },
 "nbformat": 4,
 "nbformat_minor": 5
}
