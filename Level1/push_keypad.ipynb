{
 "cells": [
  {
   "cell_type": "markdown",
   "id": "caffac41",
   "metadata": {},
   "source": [
    "## 키패드 누르기\n",
    "https://school.programmers.co.kr/learn/courses/30/lessons/67256"
   ]
  },
  {
   "cell_type": "code",
   "execution_count": 1,
   "id": "4306a41c",
   "metadata": {},
   "outputs": [],
   "source": [
    "def solution(numbers, hand):\n",
    "    answer = ''\n",
    "    dic = {1:[0, 3], 2:[1, 3], 3:[2, 3], 4:[0, 2], 5:[1, 2], 6:[2, 2], \n",
    "          7:[0, 1], 8:[1, 1], 9:[2, 1], '*':[0, 0], 0:[1, 0], '#':[2, 0]}\n",
    "    \n",
    "    left_loc = '*'\n",
    "    right_loc = '#'\n",
    "    for num in numbers:\n",
    "        if num in [1, 4, 7]:\n",
    "            left_loc = num\n",
    "            answer+='L'\n",
    "        elif num in [3, 6, 9]:\n",
    "            right_loc = num\n",
    "            answer+='R'\n",
    "        else:\n",
    "            left_move = abs((dic[num])[0] - (dic[left_loc])[0]) + abs((dic[num])[1] - (dic[left_loc])[1])\n",
    "            right_move = abs((dic[num])[0] - (dic[right_loc])[0]) + abs((dic[num])[1] - (dic[right_loc])[1])\n",
    "            \n",
    "            if left_move < right_move:\n",
    "                left_loc = num\n",
    "                answer+='L'\n",
    "            elif left_move > right_move:\n",
    "                right_loc = num\n",
    "                answer+='R'\n",
    "            else:\n",
    "                if hand == 'right':\n",
    "                    answer += 'R'\n",
    "                    right_loc = num\n",
    "                else:\n",
    "                    answer += 'L'\n",
    "                    left_loc = num\n",
    "                \n",
    "    return answer"
   ]
  },
  {
   "cell_type": "code",
   "execution_count": null,
   "id": "4b19cb41",
   "metadata": {},
   "outputs": [],
   "source": []
  }
 ],
 "metadata": {
  "kernelspec": {
   "display_name": "Python 3 (ipykernel)",
   "language": "python",
   "name": "python3"
  },
  "language_info": {
   "codemirror_mode": {
    "name": "ipython",
    "version": 3
   },
   "file_extension": ".py",
   "mimetype": "text/x-python",
   "name": "python",
   "nbconvert_exporter": "python",
   "pygments_lexer": "ipython3",
   "version": "3.9.12"
  }
 },
 "nbformat": 4,
 "nbformat_minor": 5
}
