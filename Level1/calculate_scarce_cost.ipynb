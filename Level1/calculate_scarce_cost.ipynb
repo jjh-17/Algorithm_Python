{
 "cells": [
  {
   "cell_type": "markdown",
   "id": "a1f3bfec",
   "metadata": {},
   "source": [
    "## 부족한 금액 계산하기\n",
    "https://school.programmers.co.kr/learn/courses/30/lessons/82612"
   ]
  },
  {
   "cell_type": "code",
   "execution_count": 1,
   "id": "5d8a530f",
   "metadata": {},
   "outputs": [],
   "source": [
    "def solution(price, money, count):\n",
    "    answer = -1\n",
    "    cost = 0\n",
    "    \n",
    "    for i in range(1, count+1):\n",
    "        cost += (price*i)\n",
    "    answer = max(0, cost - money)\n",
    "    return answer"
   ]
  },
  {
   "cell_type": "code",
   "execution_count": null,
   "id": "9e707572",
   "metadata": {},
   "outputs": [],
   "source": []
  }
 ],
 "metadata": {
  "kernelspec": {
   "display_name": "Python 3 (ipykernel)",
   "language": "python",
   "name": "python3"
  },
  "language_info": {
   "codemirror_mode": {
    "name": "ipython",
    "version": 3
   },
   "file_extension": ".py",
   "mimetype": "text/x-python",
   "name": "python",
   "nbconvert_exporter": "python",
   "pygments_lexer": "ipython3",
   "version": "3.9.12"
  }
 },
 "nbformat": 4,
 "nbformat_minor": 5
}
