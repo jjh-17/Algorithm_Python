{
 "cells": [
  {
   "cell_type": "markdown",
   "id": "ddb7e680",
   "metadata": {},
   "source": [
    "## 체육복\n",
    "https://school.programmers.co.kr/learn/courses/30/lessons/42862"
   ]
  },
  {
   "cell_type": "code",
   "execution_count": 1,
   "id": "5b3ccfc9",
   "metadata": {},
   "outputs": [],
   "source": [
    "def solution(n, lost, reserve):\n",
    "    answer = 0\n",
    "    current_lost = set(lost)-set(reserve)\n",
    "    current_reserve = set(reserve) - set(lost)\n",
    "    \n",
    "    for r in current_reserve:\n",
    "        if r-1 in current_lost:\n",
    "            current_lost.remove(r-1)\n",
    "        elif r+1 in current_lost:\n",
    "            current_lost.remove(r+1)\n",
    "        \n",
    "            \n",
    "    answer = n - len(current_lost)\n",
    "    return answer"
   ]
  },
  {
   "cell_type": "code",
   "execution_count": null,
   "id": "e3e6126a",
   "metadata": {},
   "outputs": [],
   "source": []
  }
 ],
 "metadata": {
  "kernelspec": {
   "display_name": "Python 3 (ipykernel)",
   "language": "python",
   "name": "python3"
  },
  "language_info": {
   "codemirror_mode": {
    "name": "ipython",
    "version": 3
   },
   "file_extension": ".py",
   "mimetype": "text/x-python",
   "name": "python",
   "nbconvert_exporter": "python",
   "pygments_lexer": "ipython3",
   "version": "3.9.12"
  }
 },
 "nbformat": 4,
 "nbformat_minor": 5
}
