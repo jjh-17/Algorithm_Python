{
 "cells": [
  {
   "cell_type": "code",
   "execution_count": null,
   "id": "2ea526a1",
   "metadata": {},
   "outputs": [],
   "source": [
    "#https://school.programmers.co.kr/learn/courses/30/lessons/43162\n",
    "\n",
    "def solution(n, computers):\n",
    "    answer = 0\n",
    "    visited = [False for i in range(n)]\n",
    "    \n",
    "    '''\n",
    "    #[BFS]\n",
    "    for c_computer in range(n):\n",
    "        if not visited[c_computer]:\n",
    "            queue = []\n",
    "            queue.append(c_computer)\n",
    "    \n",
    "            while queue:\n",
    "                computer = queue.pop(0)\n",
    "                visited[computer] = True\n",
    "        \n",
    "                for com in range(n):\n",
    "                    #컴퓨터 com을 아직 방문하지 않음\n",
    "                    if not visited[com]:\n",
    "                        #자기 자신 방문 제외, 두 컴퓨터가 연결되어 있다면\n",
    "                        if computer!=com and computers[computer][com]==1:\n",
    "                            queue.append(com)\n",
    "            answer+=1\n",
    "    '''\n",
    "    \n",
    "    \n",
    "    #[DFS]\n",
    "    def dfs(n, computers, computer, visited):\n",
    "        visited[computer] = True\n",
    "        \n",
    "        for com in range(n):\n",
    "            if not visited[com]:\n",
    "                if computer!=com and computers[computer][com]==1:\n",
    "                    dfs(n, computers, com, visited)\n",
    "        \n",
    "    for c_computer in range(n):\n",
    "        if not visited[c_computer]:\n",
    "            dfs(n, computers, c_computer, visited)\n",
    "            answer+=1\n",
    "                        \n",
    "    \n",
    "    return answer"
   ]
  }
 ],
 "metadata": {
  "kernelspec": {
   "display_name": "Python 3 (ipykernel)",
   "language": "python",
   "name": "python3"
  },
  "language_info": {
   "codemirror_mode": {
    "name": "ipython",
    "version": 3
   },
   "file_extension": ".py",
   "mimetype": "text/x-python",
   "name": "python",
   "nbconvert_exporter": "python",
   "pygments_lexer": "ipython3",
   "version": "3.9.12"
  }
 },
 "nbformat": 4,
 "nbformat_minor": 5
}
