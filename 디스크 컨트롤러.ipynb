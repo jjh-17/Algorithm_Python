{
 "cells": [
  {
   "cell_type": "code",
   "execution_count": null,
   "id": "28b4caff",
   "metadata": {},
   "outputs": [],
   "source": [
    "import heapq\n",
    "\n",
    "def solution(jobs):\n",
    "    total, count = 0, 0\n",
    "    start_time, end_time = 0, 0\n",
    "    heap = []\n",
    "    \n",
    "    while count<len(jobs):\n",
    "        #현 시점에서 수행 가능한 작업 수행\n",
    "        for job in jobs:\n",
    "            if start_time <= job[0] <= end_time:\n",
    "                #소요 시간 순으로 heap에 저장\n",
    "                heapq.heappush(heap, [job[1], job[0]])\n",
    "            \n",
    "        \n",
    "        if heap:\n",
    "            job = heapq.heappop(heap)\n",
    "            start_time = end_time + 1\n",
    "            end_time += job[0]\n",
    "            total += (end_time - job[1])\n",
    "            count += 1\n",
    "        else:\n",
    "            end_time+=1\n",
    "            \n",
    "    \n",
    "    return int(total/len(jobs))"
   ]
  }
 ],
 "metadata": {
  "kernelspec": {
   "display_name": "Python 3 (ipykernel)",
   "language": "python",
   "name": "python3"
  },
  "language_info": {
   "codemirror_mode": {
    "name": "ipython",
    "version": 3
   },
   "file_extension": ".py",
   "mimetype": "text/x-python",
   "name": "python",
   "nbconvert_exporter": "python",
   "pygments_lexer": "ipython3",
   "version": "3.9.12"
  }
 },
 "nbformat": 4,
 "nbformat_minor": 5
}
