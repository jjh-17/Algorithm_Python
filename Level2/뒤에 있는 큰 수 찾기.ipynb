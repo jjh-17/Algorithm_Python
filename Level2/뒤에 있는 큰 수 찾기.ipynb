{
 "cells": [
  {
   "cell_type": "code",
   "execution_count": null,
   "id": "497708b4",
   "metadata": {},
   "outputs": [],
   "source": [
    "#https://school.programmers.co.kr/learn/courses/30/lessons/154539\n",
    "import heapq\n",
    "\n",
    "def solution(numbers):\n",
    "    answer = [-1] * len(numbers)\n",
    "    stack = [] #아직 뒷 큰수를 발견하지 못한 수의 인덱스와 그 값을 저장\n",
    "    \n",
    "    for i, number in enumerate(numbers):\n",
    "        while stack and stack[-1][1] < number:\n",
    "            a, b = stack.pop()\n",
    "            answer[a] = number\n",
    "        \n",
    "        stack.append([i, number])\n",
    "        \n",
    "    \n",
    "    return answer"
   ]
  }
 ],
 "metadata": {
  "kernelspec": {
   "display_name": "Python 3 (ipykernel)",
   "language": "python",
   "name": "python3"
  },
  "language_info": {
   "codemirror_mode": {
    "name": "ipython",
    "version": 3
   },
   "file_extension": ".py",
   "mimetype": "text/x-python",
   "name": "python",
   "nbconvert_exporter": "python",
   "pygments_lexer": "ipython3",
   "version": "3.9.12"
  }
 },
 "nbformat": 4,
 "nbformat_minor": 5
}
