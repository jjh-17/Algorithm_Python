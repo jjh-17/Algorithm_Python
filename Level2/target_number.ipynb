{
 "cells": [
  {
   "cell_type": "markdown",
   "id": "f0b8b5fe",
   "metadata": {},
   "source": [
    "## 타겟 넘버\n",
    "https://school.programmers.co.kr/learn/courses/30/lessons/43165"
   ]
  },
  {
   "cell_type": "code",
   "execution_count": 1,
   "id": "15f49eed",
   "metadata": {},
   "outputs": [],
   "source": [
    "from collections import deque\n",
    "\n",
    "def solution(numbers, target):\n",
    "    answer = 0\n",
    "    arr = deque()\n",
    "    \n",
    "    #초기값 설정(+-)\n",
    "    arr.append((numbers[0], 1)) #현재 합, 현재 길이\n",
    "    arr.append((-numbers[0], 1))\n",
    "    n = len(numbers)\n",
    "    \n",
    "    #순회\n",
    "    while arr:\n",
    "        current_sum, idx = arr.popleft()\n",
    "        if idx == n: #남은 배열이 없음\n",
    "            if current_sum == target:\n",
    "                answer+=1\n",
    "        else:\n",
    "            arr.append((current_sum + numbers[idx], idx+1))\n",
    "            arr.append((current_sum - numbers[idx], idx+1))\n",
    "    \n",
    "    \n",
    "    return answer"
   ]
  },
  {
   "cell_type": "code",
   "execution_count": null,
   "id": "86b78659",
   "metadata": {},
   "outputs": [],
   "source": []
  }
 ],
 "metadata": {
  "kernelspec": {
   "display_name": "Python 3 (ipykernel)",
   "language": "python",
   "name": "python3"
  },
  "language_info": {
   "codemirror_mode": {
    "name": "ipython",
    "version": 3
   },
   "file_extension": ".py",
   "mimetype": "text/x-python",
   "name": "python",
   "nbconvert_exporter": "python",
   "pygments_lexer": "ipython3",
   "version": "3.9.12"
  }
 },
 "nbformat": 4,
 "nbformat_minor": 5
}
