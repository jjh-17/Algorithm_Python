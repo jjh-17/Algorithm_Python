{
 "cells": [
  {
   "cell_type": "markdown",
   "id": "418b523b",
   "metadata": {},
   "source": [
    "## 위장\n",
    "https://school.programmers.co.kr/learn/courses/30/lessons/42578"
   ]
  },
  {
   "cell_type": "code",
   "execution_count": 1,
   "id": "11ed58ed",
   "metadata": {},
   "outputs": [],
   "source": [
    "from collections import defaultdict\n",
    "\n",
    "def solution(clothes):\n",
    "    answer = 1\n",
    "    dic = defaultdict(lambda : 0)\n",
    "    \n",
    "    for cloth in clothes:\n",
    "        dic[cloth[1]] += 1\n",
    "            \n",
    "    for v in dic.values():\n",
    "        answer *= (v + 1)\n",
    "        \n",
    "    return answer-1"
   ]
  },
  {
   "cell_type": "code",
   "execution_count": null,
   "id": "8917deea",
   "metadata": {},
   "outputs": [],
   "source": []
  }
 ],
 "metadata": {
  "kernelspec": {
   "display_name": "Python 3 (ipykernel)",
   "language": "python",
   "name": "python3"
  },
  "language_info": {
   "codemirror_mode": {
    "name": "ipython",
    "version": 3
   },
   "file_extension": ".py",
   "mimetype": "text/x-python",
   "name": "python",
   "nbconvert_exporter": "python",
   "pygments_lexer": "ipython3",
   "version": "3.9.12"
  }
 },
 "nbformat": 4,
 "nbformat_minor": 5
}
