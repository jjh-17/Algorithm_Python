{
 "cells": [
  {
   "cell_type": "markdown",
   "id": "bedc03de",
   "metadata": {},
   "source": [
    "## 괄호 회전하기\n",
    "https://school.programmers.co.kr/learn/courses/30/lessons/76502"
   ]
  },
  {
   "cell_type": "code",
   "execution_count": 1,
   "id": "3d642b3c",
   "metadata": {},
   "outputs": [],
   "source": [
    "def solution(s):\n",
    "    answer = 0\n",
    "    n = len(s)\n",
    "    dic = {'(':0, '{':1, '[':2, ')':3, '}':4, ']':5}\n",
    "    for i in range(n):\n",
    "        queue = []\n",
    "        s = s[1:] + s[0]\n",
    "        \n",
    "        for w in s:\n",
    "            if not queue:\n",
    "                queue.append(w)\n",
    "            else:\n",
    "                if dic[w]-dic[queue[-1]] == 3:\n",
    "                    queue.pop()\n",
    "                else:\n",
    "                    queue.append(w)\n",
    "      \n",
    "        if not queue:\n",
    "            answer+=1\n",
    "    \n",
    "    return answer"
   ]
  },
  {
   "cell_type": "code",
   "execution_count": null,
   "id": "17560e35",
   "metadata": {},
   "outputs": [],
   "source": []
  }
 ],
 "metadata": {
  "kernelspec": {
   "display_name": "Python 3 (ipykernel)",
   "language": "python",
   "name": "python3"
  },
  "language_info": {
   "codemirror_mode": {
    "name": "ipython",
    "version": 3
   },
   "file_extension": ".py",
   "mimetype": "text/x-python",
   "name": "python",
   "nbconvert_exporter": "python",
   "pygments_lexer": "ipython3",
   "version": "3.9.12"
  }
 },
 "nbformat": 4,
 "nbformat_minor": 5
}
