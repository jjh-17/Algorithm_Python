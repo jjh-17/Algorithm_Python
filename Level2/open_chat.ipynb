{
 "cells": [
  {
   "cell_type": "markdown",
   "id": "0f0f7b23",
   "metadata": {},
   "source": [
    "## 오픈채팅방\n",
    "https://school.programmers.co.kr/learn/courses/30/lessons/42888"
   ]
  },
  {
   "cell_type": "code",
   "execution_count": 1,
   "id": "1ef99fc0",
   "metadata": {},
   "outputs": [],
   "source": [
    "def solution(record):\n",
    "    answer = []\n",
    "    dic = dict()\n",
    "    \n",
    "    for r in record:\n",
    "        item = r.split(' ')\n",
    "        if item[0] == 'Enter':\n",
    "            uid = item[1]\n",
    "            name = item[2]\n",
    "            dic[uid] = name\n",
    "            answer.append(uid+'/님이 들어왔습니다.')\n",
    "        elif item[0] == 'Leave':\n",
    "            uid = item[1]\n",
    "            answer.append(uid+'/님이 나갔습니다.')\n",
    "        else:\n",
    "            uid = item[1]\n",
    "            name = item[2]\n",
    "            dic[uid] = name\n",
    "          \n",
    "    for i, a in enumerate(answer):\n",
    "        uid, end = a.split('/')\n",
    "        answer[i] = dic[uid] + end\n",
    "    \n",
    "    \n",
    "    return answer"
   ]
  },
  {
   "cell_type": "code",
   "execution_count": null,
   "id": "c2eaf20b",
   "metadata": {},
   "outputs": [],
   "source": []
  }
 ],
 "metadata": {
  "kernelspec": {
   "display_name": "Python 3 (ipykernel)",
   "language": "python",
   "name": "python3"
  },
  "language_info": {
   "codemirror_mode": {
    "name": "ipython",
    "version": 3
   },
   "file_extension": ".py",
   "mimetype": "text/x-python",
   "name": "python",
   "nbconvert_exporter": "python",
   "pygments_lexer": "ipython3",
   "version": "3.9.12"
  }
 },
 "nbformat": 4,
 "nbformat_minor": 5
}
