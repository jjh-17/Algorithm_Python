{
 "cells": [
  {
   "cell_type": "code",
   "execution_count": null,
   "id": "66db0932",
   "metadata": {},
   "outputs": [],
   "source": [
    "#https://school.programmers.co.kr/learn/courses/30/lessons/17679?language=python3\n",
    "\n",
    "def solution(m, n, board):\n",
    "    answer = 0\n",
    "    \n",
    "    \n",
    "    #board의 문자열을 분리\n",
    "    for i in range(m):\n",
    "        board[i] = list(board[i])\n",
    "    \n",
    "    \n",
    "    #반복문 실행\n",
    "    while True:\n",
    "        #지워질 블럭의 좌표를 저장하는 집합\n",
    "        cors = set()\n",
    "        \n",
    "        #board를 순회하며 지워질 블럭의 좌표 저장\n",
    "        for i in range(m-1):\n",
    "            for j in range(n-1):\n",
    "                if board[i][j] == 'X':\n",
    "                    continue\n",
    "                    \n",
    "                if board[i][j] == board[i][j+1] and board[i][j] == board[i+1][j] and board[i][j] == board[i+1][j+1]:\n",
    "                    cors.add((i, j))\n",
    "                    cors.add((i, j+1))\n",
    "                    cors.add((i+1, j))\n",
    "                    cors.add((i+1, j+1))\n",
    "                \n",
    "        #집합이 비어있다면 지워진 블럭이 없음 ==> 탈출\n",
    "        if not cors:           \n",
    "            return answer\n",
    "    \n",
    "        #answer 추가 및 board에 지워진 부분 표기\n",
    "        answer += len(cors)\n",
    "        for (i, j) in cors:\n",
    "            board[i][j] = 'X'\n",
    "            \n",
    "        #board 아래로 내리기\n",
    "        while True:\n",
    "            flag = False\n",
    "            \n",
    "            for i in range(m-1):\n",
    "                for j in range(n):\n",
    "                    if board[i][j] != 'X' and board[i+1][j] == 'X':\n",
    "                        board[i+1][j] = board[i][j]\n",
    "                        board[i][j] = 'X'\n",
    "                        flag = True\n",
    "                        \n",
    "            if not flag:\n",
    "                break\n",
    "    \n",
    "    return answer"
   ]
  }
 ],
 "metadata": {
  "kernelspec": {
   "display_name": "Python 3 (ipykernel)",
   "language": "python",
   "name": "python3"
  },
  "language_info": {
   "codemirror_mode": {
    "name": "ipython",
    "version": 3
   },
   "file_extension": ".py",
   "mimetype": "text/x-python",
   "name": "python",
   "nbconvert_exporter": "python",
   "pygments_lexer": "ipython3",
   "version": "3.9.12"
  }
 },
 "nbformat": 4,
 "nbformat_minor": 5
}
