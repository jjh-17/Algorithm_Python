{
 "cells": [
  {
   "cell_type": "markdown",
   "id": "7a2cde9e",
   "metadata": {},
   "source": [
    "## N개의 최소공배수\n",
    "https://school.programmers.co.kr/learn/courses/30/lessons/12953"
   ]
  },
  {
   "cell_type": "code",
   "execution_count": 1,
   "id": "0632803b",
   "metadata": {},
   "outputs": [],
   "source": [
    "def solution(arr):\n",
    "    answer = 0\n",
    "    count = 1\n",
    "    flag = True\n",
    "    \n",
    "    if len(arr) == 1:\n",
    "        return arr[0]\n",
    "    \n",
    "    arr.sort()\n",
    "    while True:\n",
    "        flag = True\n",
    "        for a in arr:\n",
    "            if (arr[-1]*count)%a != 0:\n",
    "                flag = False\n",
    "                break\n",
    "        if flag:\n",
    "            answer = arr[-1]*count\n",
    "            break\n",
    "        count+=1\n",
    "    \n",
    "    return answer"
   ]
  },
  {
   "cell_type": "code",
   "execution_count": null,
   "id": "181e8fed",
   "metadata": {},
   "outputs": [],
   "source": []
  }
 ],
 "metadata": {
  "kernelspec": {
   "display_name": "Python 3 (ipykernel)",
   "language": "python",
   "name": "python3"
  },
  "language_info": {
   "codemirror_mode": {
    "name": "ipython",
    "version": 3
   },
   "file_extension": ".py",
   "mimetype": "text/x-python",
   "name": "python",
   "nbconvert_exporter": "python",
   "pygments_lexer": "ipython3",
   "version": "3.9.12"
  }
 },
 "nbformat": 4,
 "nbformat_minor": 5
}
