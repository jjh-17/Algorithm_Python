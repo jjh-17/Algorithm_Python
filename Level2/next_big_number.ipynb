{
 "cells": [
  {
   "cell_type": "markdown",
   "id": "54a1a7f8",
   "metadata": {},
   "source": [
    "## 다음 큰 수\n",
    "https://school.programmers.co.kr/learn/courses/30/lessons/12911"
   ]
  },
  {
   "cell_type": "code",
   "execution_count": 1,
   "id": "42854aed",
   "metadata": {},
   "outputs": [],
   "source": [
    "def solution(n):\n",
    "    count1 = bin(n).count('1')\n",
    "    \n",
    "    while True:\n",
    "        n = n+1\n",
    "        if bin(n).count('1') == count1:\n",
    "            break\n",
    "    \n",
    "    \n",
    "    return n"
   ]
  },
  {
   "cell_type": "code",
   "execution_count": null,
   "id": "4c696ec0",
   "metadata": {},
   "outputs": [],
   "source": []
  }
 ],
 "metadata": {
  "kernelspec": {
   "display_name": "Python 3 (ipykernel)",
   "language": "python",
   "name": "python3"
  },
  "language_info": {
   "codemirror_mode": {
    "name": "ipython",
    "version": 3
   },
   "file_extension": ".py",
   "mimetype": "text/x-python",
   "name": "python",
   "nbconvert_exporter": "python",
   "pygments_lexer": "ipython3",
   "version": "3.9.12"
  }
 },
 "nbformat": 4,
 "nbformat_minor": 5
}
