{
 "cells": [
  {
   "cell_type": "markdown",
   "id": "d0e7fb9c",
   "metadata": {},
   "source": [
    "## 이진변환 반복하기\n",
    "https://school.programmers.co.kr/learn/courses/30/lessons/70129"
   ]
  },
  {
   "cell_type": "code",
   "execution_count": 1,
   "id": "27da6915",
   "metadata": {},
   "outputs": [],
   "source": [
    "def solution(s):\n",
    "    answer = [0, 0]\n",
    "    \n",
    "    while s != '1':\n",
    "        new_s = s.replace('0', '')\n",
    "        answer[0] += 1\n",
    "        answer[1] += (len(s) - len(new_s))\n",
    "        s = bin(len(new_s))[2:]\n",
    "    \n",
    "    return answer"
   ]
  },
  {
   "cell_type": "code",
   "execution_count": null,
   "id": "d040e17f",
   "metadata": {},
   "outputs": [],
   "source": []
  }
 ],
 "metadata": {
  "kernelspec": {
   "display_name": "Python 3 (ipykernel)",
   "language": "python",
   "name": "python3"
  },
  "language_info": {
   "codemirror_mode": {
    "name": "ipython",
    "version": 3
   },
   "file_extension": ".py",
   "mimetype": "text/x-python",
   "name": "python",
   "nbconvert_exporter": "python",
   "pygments_lexer": "ipython3",
   "version": "3.9.12"
  }
 },
 "nbformat": 4,
 "nbformat_minor": 5
}
