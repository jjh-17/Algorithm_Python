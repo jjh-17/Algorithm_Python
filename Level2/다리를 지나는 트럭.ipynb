{
 "cells": [
  {
   "cell_type": "code",
   "execution_count": null,
   "id": "c7d4dda3",
   "metadata": {},
   "outputs": [],
   "source": [
    "#https://school.programmers.co.kr/learn/courses/30/lessons/42583\n",
    "\n",
    "def solution(bridge_length, weight, truck_weights):\n",
    "    answer = 0\n",
    "    bt = []  #다리 위 트럭 무게\n",
    "    btl = [] #다리 위 트럭이 건넌 길이\n",
    "    \n",
    "    bt.append(truck_weights.pop(0))\n",
    "    btl.append(1)\n",
    "    answer+=1\n",
    "    \n",
    "    while truck_weights:\n",
    "        #각 트럭이 건넌 길이를 1씩 추가\n",
    "        for i in range(len(btl)):\n",
    "            btl[i] += 1\n",
    "        answer+=1\n",
    "        \n",
    "        #최 선두 차량이 다리를 전부 건넜다면 배열에서 제거\n",
    "        if btl[0] == bridge_length + 1:\n",
    "            bt.pop(0)\n",
    "            btl.pop(0)\n",
    "                \n",
    "        #다리에 트럭이 더 오를 수 있는 경우\n",
    "        if sum(bt) + truck_weights[0] <= weight:\n",
    "            bt.append(truck_weights.pop(0))\n",
    "            btl.append(1)\n",
    "        \n",
    "    #남은 차량이 없고, 다리를 건너는 중인 트럭 밖에 없는 경우\n",
    "    if bt:\n",
    "        answer += (bridge_length - btl[-1] + 1)\n",
    "    \n",
    "    return answer"
   ]
  }
 ],
 "metadata": {
  "kernelspec": {
   "display_name": "Python 3 (ipykernel)",
   "language": "python",
   "name": "python3"
  },
  "language_info": {
   "codemirror_mode": {
    "name": "ipython",
    "version": 3
   },
   "file_extension": ".py",
   "mimetype": "text/x-python",
   "name": "python",
   "nbconvert_exporter": "python",
   "pygments_lexer": "ipython3",
   "version": "3.9.12"
  }
 },
 "nbformat": 4,
 "nbformat_minor": 5
}
