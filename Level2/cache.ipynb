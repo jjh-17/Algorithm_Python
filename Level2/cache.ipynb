{
 "cells": [
  {
   "cell_type": "markdown",
   "id": "454ce1d5",
   "metadata": {},
   "source": [
    "## 캐시\n",
    "https://school.programmers.co.kr/learn/courses/30/lessons/17680"
   ]
  },
  {
   "cell_type": "code",
   "execution_count": 1,
   "id": "6308276c",
   "metadata": {},
   "outputs": [],
   "source": [
    "def solution(cacheSize, cities):\n",
    "    answer = 0\n",
    "    cache = []\n",
    "    \n",
    "    for city in cities:\n",
    "        if cacheSize == 0:\n",
    "            answer += 5\n",
    "            continue\n",
    "            \n",
    "        city = city.lower()\n",
    "        if city in cache:\n",
    "            cache.append(cache.pop(cache.index(city)))\n",
    "            answer += 1\n",
    "        else:\n",
    "            answer+=5\n",
    "            if len(cache) == cacheSize:\n",
    "                cache.pop(0)\n",
    "            cache.append(city)\n",
    "    \n",
    "    \n",
    "    return answer"
   ]
  },
  {
   "cell_type": "code",
   "execution_count": null,
   "id": "a033ec21",
   "metadata": {},
   "outputs": [],
   "source": []
  }
 ],
 "metadata": {
  "kernelspec": {
   "display_name": "Python 3 (ipykernel)",
   "language": "python",
   "name": "python3"
  },
  "language_info": {
   "codemirror_mode": {
    "name": "ipython",
    "version": 3
   },
   "file_extension": ".py",
   "mimetype": "text/x-python",
   "name": "python",
   "nbconvert_exporter": "python",
   "pygments_lexer": "ipython3",
   "version": "3.9.12"
  }
 },
 "nbformat": 4,
 "nbformat_minor": 5
}
