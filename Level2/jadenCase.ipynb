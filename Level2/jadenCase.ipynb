{
 "cells": [
  {
   "cell_type": "markdown",
   "id": "9b123652",
   "metadata": {},
   "source": [
    "## JadenCase 문자열 만들기\n",
    "https://school.programmers.co.kr/learn/courses/30/lessons/12951"
   ]
  },
  {
   "cell_type": "code",
   "execution_count": 1,
   "id": "680c9947",
   "metadata": {},
   "outputs": [],
   "source": [
    "def solution(s):\n",
    "    answer = ''\n",
    "    arr = s.split(' ')\n",
    "    \n",
    "    for a in arr:\n",
    "        if len(a) == 0:\n",
    "            answer += ' '\n",
    "        else:\n",
    "            answer+=(a[0].upper() + a[1:].lower() + ' ')\n",
    "        \n",
    "    return answer[:-1]"
   ]
  },
  {
   "cell_type": "code",
   "execution_count": null,
   "id": "ce34b52b",
   "metadata": {},
   "outputs": [],
   "source": []
  }
 ],
 "metadata": {
  "kernelspec": {
   "display_name": "Python 3 (ipykernel)",
   "language": "python",
   "name": "python3"
  },
  "language_info": {
   "codemirror_mode": {
    "name": "ipython",
    "version": 3
   },
   "file_extension": ".py",
   "mimetype": "text/x-python",
   "name": "python",
   "nbconvert_exporter": "python",
   "pygments_lexer": "ipython3",
   "version": "3.9.12"
  }
 },
 "nbformat": 4,
 "nbformat_minor": 5
}
