{
 "cells": [
  {
   "cell_type": "markdown",
   "id": "89c1e00b",
   "metadata": {},
   "source": [
    "## 기능 개발\n",
    "https://school.programmers.co.kr/learn/courses/30/lessons/42586"
   ]
  },
  {
   "cell_type": "code",
   "execution_count": 3,
   "id": "20211501",
   "metadata": {},
   "outputs": [],
   "source": [
    "def solution(progresses, speeds):\n",
    "    answer = []\n",
    "    time = 0\n",
    "    count = 0\n",
    "    while progresses:      \n",
    "        if progresses[0] + speeds[0]*time >= 100:\n",
    "            count+=1\n",
    "            progresses.pop(0)\n",
    "            speeds.pop(0)\n",
    "        else:\n",
    "            time+=1\n",
    "            if count:\n",
    "                answer.append(count)\n",
    "                count = 0\n",
    "    \n",
    "    if count:\n",
    "        answer.append(count)\n",
    "    \n",
    "    return answer"
   ]
  },
  {
   "cell_type": "code",
   "execution_count": null,
   "id": "07411371",
   "metadata": {},
   "outputs": [],
   "source": []
  }
 ],
 "metadata": {
  "kernelspec": {
   "display_name": "Python 3 (ipykernel)",
   "language": "python",
   "name": "python3"
  },
  "language_info": {
   "codemirror_mode": {
    "name": "ipython",
    "version": 3
   },
   "file_extension": ".py",
   "mimetype": "text/x-python",
   "name": "python",
   "nbconvert_exporter": "python",
   "pygments_lexer": "ipython3",
   "version": "3.9.12"
  }
 },
 "nbformat": 4,
 "nbformat_minor": 5
}
