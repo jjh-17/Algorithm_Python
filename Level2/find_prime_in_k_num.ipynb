{
 "cells": [
  {
   "cell_type": "markdown",
   "id": "856a6cd9",
   "metadata": {},
   "source": [
    "## k진수에서 소수 개수 구하기\n",
    "https://school.programmers.co.kr/learn/courses/30/lessons/92335"
   ]
  },
  {
   "cell_type": "code",
   "execution_count": 1,
   "id": "66b17a47",
   "metadata": {},
   "outputs": [],
   "source": [
    "def solution(n, k):\n",
    "    def is_prime(num):\n",
    "        if num==1:\n",
    "            return False\n",
    "        for i in range(2, int(num**0.5)+1):\n",
    "            if num%i==0:\n",
    "                return False\n",
    "        return True\n",
    "    \n",
    "    answer = 0\n",
    "    num_str = ''\n",
    "    \n",
    "    while n:\n",
    "        num_str = str(n%k) + num_str\n",
    "        n = n//k\n",
    "    arr = num_str.split('0')\n",
    "    \n",
    "    for num in arr:\n",
    "        if not num: #비어있는 경우\n",
    "            continue\n",
    "        \n",
    "        if is_prime(int(num)):\n",
    "            answer+=1\n",
    "\n",
    "    return answer"
   ]
  },
  {
   "cell_type": "code",
   "execution_count": null,
   "id": "ac509da9",
   "metadata": {},
   "outputs": [],
   "source": []
  }
 ],
 "metadata": {
  "kernelspec": {
   "display_name": "Python 3 (ipykernel)",
   "language": "python",
   "name": "python3"
  },
  "language_info": {
   "codemirror_mode": {
    "name": "ipython",
    "version": 3
   },
   "file_extension": ".py",
   "mimetype": "text/x-python",
   "name": "python",
   "nbconvert_exporter": "python",
   "pygments_lexer": "ipython3",
   "version": "3.9.12"
  }
 },
 "nbformat": 4,
 "nbformat_minor": 5
}
