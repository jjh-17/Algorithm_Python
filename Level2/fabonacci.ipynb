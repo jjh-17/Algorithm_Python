{
 "cells": [
  {
   "cell_type": "markdown",
   "id": "a7bac0a5",
   "metadata": {},
   "source": [
    "## 파보나치 수\n",
    "https://school.programmers.co.kr/learn/courses/30/lessons/12945"
   ]
  },
  {
   "cell_type": "code",
   "execution_count": 1,
   "id": "954f4b8a",
   "metadata": {},
   "outputs": [],
   "source": [
    "def solution(n):\n",
    "    fibo = [0, 1]\n",
    "    \n",
    "    for i in range(n-1):\n",
    "        temp = fibo[0]\n",
    "        fibo[0] = fibo[1]\n",
    "        fibo[1] = temp + fibo[1]\n",
    "    \n",
    "    return fibo[1]%1234567"
   ]
  },
  {
   "cell_type": "code",
   "execution_count": null,
   "id": "b0b9325b",
   "metadata": {},
   "outputs": [],
   "source": []
  }
 ],
 "metadata": {
  "kernelspec": {
   "display_name": "Python 3 (ipykernel)",
   "language": "python",
   "name": "python3"
  },
  "language_info": {
   "codemirror_mode": {
    "name": "ipython",
    "version": 3
   },
   "file_extension": ".py",
   "mimetype": "text/x-python",
   "name": "python",
   "nbconvert_exporter": "python",
   "pygments_lexer": "ipython3",
   "version": "3.9.12"
  }
 },
 "nbformat": 4,
 "nbformat_minor": 5
}
