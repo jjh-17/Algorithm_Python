{
 "cells": [
  {
   "cell_type": "code",
   "execution_count": null,
   "id": "8c81d2ac",
   "metadata": {},
   "outputs": [],
   "source": [
    "#https://school.programmers.co.kr/learn/courses/30/lessons/68645\n",
    "\n",
    "def solution(n):\n",
    "    answer = []\n",
    "    arr = [[0 for _ in range(j+1)] for j in range(n)]\n",
    "    total = n*(n+1)//2\n",
    "    num = 1\n",
    "    bl, br, bd, bu = 0, 0, 0, 0\n",
    "    \n",
    "    while num <= total:\n",
    "        #아래로\n",
    "        for i in range(bu, n-bd):\n",
    "            arr[i][bl] = num\n",
    "            num+=1\n",
    "        bl+=1\n",
    "        \n",
    "        #오른쪽으로\n",
    "        for i in range(bl, len(arr[n-1-bd])-br):\n",
    "            arr[n-1-bd][i] = num\n",
    "            num+=1\n",
    "        bd+=1 ; bu+=1\n",
    "            \n",
    "        #위로\n",
    "        for i in range(n-1-bd, bu-1, -1):\n",
    "            arr[i][-1-br] = num\n",
    "            num+=1\n",
    "        bu+=1 ; br+=1\n",
    "\n",
    "    for a in arr:\n",
    "        answer += a\n",
    "    \n",
    "    \n",
    "    return answer"
   ]
  }
 ],
 "metadata": {
  "kernelspec": {
   "display_name": "Python 3 (ipykernel)",
   "language": "python",
   "name": "python3"
  },
  "language_info": {
   "codemirror_mode": {
    "name": "ipython",
    "version": 3
   },
   "file_extension": ".py",
   "mimetype": "text/x-python",
   "name": "python",
   "nbconvert_exporter": "python",
   "pygments_lexer": "ipython3",
   "version": "3.9.12"
  }
 },
 "nbformat": 4,
 "nbformat_minor": 5
}
