{
 "cells": [
  {
   "cell_type": "code",
   "execution_count": null,
   "id": "d156f376",
   "metadata": {},
   "outputs": [],
   "source": [
    "#https://school.programmers.co.kr/learn/courses/30/lessons/68936\n",
    "\n",
    "def solution(arr):\n",
    "    answer = [0, 0]\n",
    "    \n",
    "    def compress(a, b, length):\n",
    "        standard = arr[a][b]\n",
    "        \n",
    "        for i in range(a, a+length):\n",
    "            for j in range(b, b+length):\n",
    "                if arr[i][j] != standard:\n",
    "                    length = length//2\n",
    "                    \n",
    "                    compress(a, b, length)\n",
    "                    compress(a+length, b, length)\n",
    "                    compress(a, b+length, length)\n",
    "                    compress(a+length, b+length, length)\n",
    "                    return\n",
    "    \n",
    "        answer[standard] += 1\n",
    "        \n",
    "    compress(0, 0, len(arr))\n",
    "    \n",
    "    return answer"
   ]
  }
 ],
 "metadata": {
  "kernelspec": {
   "display_name": "Python 3 (ipykernel)",
   "language": "python",
   "name": "python3"
  },
  "language_info": {
   "codemirror_mode": {
    "name": "ipython",
    "version": 3
   },
   "file_extension": ".py",
   "mimetype": "text/x-python",
   "name": "python",
   "nbconvert_exporter": "python",
   "pygments_lexer": "ipython3",
   "version": "3.9.12"
  }
 },
 "nbformat": 4,
 "nbformat_minor": 5
}
