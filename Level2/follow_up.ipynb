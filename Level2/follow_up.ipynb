{
 "cells": [
  {
   "cell_type": "markdown",
   "id": "0eb2d5c3",
   "metadata": {},
   "source": [
    "## 영어 끝말잇기\n",
    "https://school.programmers.co.kr/learn/courses/30/lessons/12981"
   ]
  },
  {
   "cell_type": "code",
   "execution_count": 1,
   "id": "1a3d9777",
   "metadata": {},
   "outputs": [],
   "source": [
    "def solution(n, words):\n",
    "    answer = [0, 0]\n",
    "    stack = []\n",
    "    \n",
    "    for i, w in enumerate(words):\n",
    "        if not stack:\n",
    "            stack.append(w)\n",
    "        else:\n",
    "            if (stack[-1])[-1] != w[0] or w in stack:\n",
    "                answer = [i%n + 1, i//n + 1]\n",
    "                break\n",
    "            else:\n",
    "                stack.append(w)\n",
    "    \n",
    "\n",
    "    return answer"
   ]
  },
  {
   "cell_type": "code",
   "execution_count": null,
   "id": "e5f70348",
   "metadata": {},
   "outputs": [],
   "source": []
  }
 ],
 "metadata": {
  "kernelspec": {
   "display_name": "Python 3 (ipykernel)",
   "language": "python",
   "name": "python3"
  },
  "language_info": {
   "codemirror_mode": {
    "name": "ipython",
    "version": 3
   },
   "file_extension": ".py",
   "mimetype": "text/x-python",
   "name": "python",
   "nbconvert_exporter": "python",
   "pygments_lexer": "ipython3",
   "version": "3.9.12"
  }
 },
 "nbformat": 4,
 "nbformat_minor": 5
}
