{
 "cells": [
  {
   "cell_type": "markdown",
   "id": "28e7cd20",
   "metadata": {},
   "source": [
    "## 방문 길이\n",
    "https://school.programmers.co.kr/learn/courses/30/lessons/49994"
   ]
  },
  {
   "cell_type": "code",
   "execution_count": 1,
   "id": "a6782de3",
   "metadata": {},
   "outputs": [],
   "source": [
    "def solution(dirs):\n",
    "    x, y = 0, 0\n",
    "    dic = {'U':(0, 1), 'D':(0, -1), 'L':(-1, 0), 'R':(1, 0)}\n",
    "    routes = set()\n",
    "    \n",
    "    for d in dirs:\n",
    "        dx, dy = dic[d]\n",
    "        new_x = x + dx\n",
    "        new_y = y + dy\n",
    "        \n",
    "        if (-5<=new_x<=5) and (-5<=new_y<=5):\n",
    "            routes.add(((x, y), (new_x, new_y)))\n",
    "            routes.add(((new_x, new_y), (x, y)))\n",
    "            x, y = new_x, new_y\n",
    "    \n",
    "    answer = len(routes)//2\n",
    "    return answer"
   ]
  },
  {
   "cell_type": "code",
   "execution_count": null,
   "id": "5b8ffbed",
   "metadata": {},
   "outputs": [],
   "source": []
  }
 ],
 "metadata": {
  "kernelspec": {
   "display_name": "Python 3 (ipykernel)",
   "language": "python",
   "name": "python3"
  },
  "language_info": {
   "codemirror_mode": {
    "name": "ipython",
    "version": 3
   },
   "file_extension": ".py",
   "mimetype": "text/x-python",
   "name": "python",
   "nbconvert_exporter": "python",
   "pygments_lexer": "ipython3",
   "version": "3.9.12"
  }
 },
 "nbformat": 4,
 "nbformat_minor": 5
}
