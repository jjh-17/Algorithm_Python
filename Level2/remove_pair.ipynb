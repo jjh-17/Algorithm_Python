{
 "cells": [
  {
   "cell_type": "markdown",
   "id": "415b5e50",
   "metadata": {},
   "source": [
    "## 짝지어 제거하기\n",
    "https://school.programmers.co.kr/learn/courses/30/lessons/12973"
   ]
  },
  {
   "cell_type": "code",
   "execution_count": 1,
   "id": "d3b0ec89",
   "metadata": {},
   "outputs": [],
   "source": [
    "def solution(s):\n",
    "    stack = []\n",
    "    \n",
    "    for w in s:\n",
    "        if not stack:\n",
    "            stack.append(w)\n",
    "        else:\n",
    "            if stack[-1] == w:\n",
    "                stack.pop()\n",
    "            else:\n",
    "                stack.append(w)\n",
    "\n",
    "    return 1 if not stack else 0"
   ]
  },
  {
   "cell_type": "code",
   "execution_count": null,
   "id": "223147fb",
   "metadata": {},
   "outputs": [],
   "source": []
  }
 ],
 "metadata": {
  "kernelspec": {
   "display_name": "Python 3 (ipykernel)",
   "language": "python",
   "name": "python3"
  },
  "language_info": {
   "codemirror_mode": {
    "name": "ipython",
    "version": 3
   },
   "file_extension": ".py",
   "mimetype": "text/x-python",
   "name": "python",
   "nbconvert_exporter": "python",
   "pygments_lexer": "ipython3",
   "version": "3.9.12"
  }
 },
 "nbformat": 4,
 "nbformat_minor": 5
}
