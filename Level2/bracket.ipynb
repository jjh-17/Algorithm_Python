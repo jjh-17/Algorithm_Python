{
 "cells": [
  {
   "cell_type": "markdown",
   "id": "3c55e1cc",
   "metadata": {},
   "source": [
    "## 올바른 괄호\n",
    "https://school.programmers.co.kr/learn/courses/30/lessons/12909"
   ]
  },
  {
   "cell_type": "code",
   "execution_count": 1,
   "id": "54a7455a",
   "metadata": {},
   "outputs": [],
   "source": [
    "def solution(s):\n",
    "    queue = []\n",
    "    \n",
    "    for item in s:\n",
    "        if not queue:\n",
    "            queue.append(item)\n",
    "        else:\n",
    "            if item == '(':\n",
    "                queue.append('(')\n",
    "            else:\n",
    "                if queue[-1] == '(':\n",
    "                    queue.pop()\n",
    "                else:\n",
    "                    queue.append(')')\n",
    "                    \n",
    "    answer = True if not queue else False\n",
    "    return answer"
   ]
  },
  {
   "cell_type": "code",
   "execution_count": null,
   "id": "ceec8c97",
   "metadata": {},
   "outputs": [],
   "source": []
  }
 ],
 "metadata": {
  "kernelspec": {
   "display_name": "Python 3 (ipykernel)",
   "language": "python",
   "name": "python3"
  },
  "language_info": {
   "codemirror_mode": {
    "name": "ipython",
    "version": 3
   },
   "file_extension": ".py",
   "mimetype": "text/x-python",
   "name": "python",
   "nbconvert_exporter": "python",
   "pygments_lexer": "ipython3",
   "version": "3.9.12"
  }
 },
 "nbformat": 4,
 "nbformat_minor": 5
}
