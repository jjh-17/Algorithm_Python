{
 "cells": [
  {
   "cell_type": "markdown",
   "id": "9ff2016d",
   "metadata": {},
   "source": [
    "## 압축\n",
    "https://school.programmers.co.kr/learn/courses/30/lessons/17684"
   ]
  },
  {
   "cell_type": "code",
   "execution_count": 13,
   "id": "1e73d79c",
   "metadata": {},
   "outputs": [],
   "source": [
    "'''\n",
    "ord(문자) : 문자에 대응하는 아스키 코드 값 반환\n",
    "chr(숫자) : 아스키 코드 값에 대응하는 문자 반환\n",
    "'''\n",
    "\n",
    "def solution(msg):\n",
    "    answer = []\n",
    "    dic = dict()\n",
    "    \n",
    "    for i in range(26):\n",
    "        dic[chr(ord('A')+i)] = i+1\n",
    "    \n",
    "    w, c = '', ''\n",
    "    dic_idx = 27\n",
    "    for i in range(len(msg)):\n",
    "        w = w + msg[i]\n",
    "        c = '' if i==len(msg)-1 else msg[i+1]\n",
    "        \n",
    "        if w+c not in dic.keys():\n",
    "            dic[w+c] = dic_idx\n",
    "            answer.append(dic[w])\n",
    "            dic_idx+=1\n",
    "            w = ''\n",
    "            continue\n",
    "        \n",
    "        if c == '':\n",
    "            answer.append(dic[w])\n",
    "    return answer"
   ]
  },
  {
   "cell_type": "code",
   "execution_count": 16,
   "id": "18c45bee",
   "metadata": {},
   "outputs": [
    {
     "data": {
      "text/plain": [
       "[11, 1, 27, 15]"
      ]
     },
     "execution_count": 16,
     "metadata": {},
     "output_type": "execute_result"
    }
   ],
   "source": [
    "msg = \"KAKAO\"\n",
    "answer = [11, 1, 27, 15]\n",
    "solution(msg)"
   ]
  },
  {
   "cell_type": "code",
   "execution_count": 17,
   "id": "6e2d4a3f",
   "metadata": {},
   "outputs": [
    {
     "data": {
      "text/plain": [
       "[20, 15, 2, 5, 15, 18, 14, 15, 20, 27, 29, 31, 36, 30, 32, 34]"
      ]
     },
     "execution_count": 17,
     "metadata": {},
     "output_type": "execute_result"
    }
   ],
   "source": [
    "msg = \"TOBEORNOTTOBEORTOBEORNOT\"\n",
    "answer = [20, 15, 2, 5, 15, 18, 14, 15, 20, 27, 29, 31, 36, 30, 32, 34]\n",
    "solution(msg)"
   ]
  },
  {
   "cell_type": "code",
   "execution_count": null,
   "id": "7867cd9c",
   "metadata": {},
   "outputs": [],
   "source": []
  }
 ],
 "metadata": {
  "kernelspec": {
   "display_name": "Python 3 (ipykernel)",
   "language": "python",
   "name": "python3"
  },
  "language_info": {
   "codemirror_mode": {
    "name": "ipython",
    "version": 3
   },
   "file_extension": ".py",
   "mimetype": "text/x-python",
   "name": "python",
   "nbconvert_exporter": "python",
   "pygments_lexer": "ipython3",
   "version": "3.9.12"
  }
 },
 "nbformat": 4,
 "nbformat_minor": 5
}
