{
 "cells": [
  {
   "cell_type": "code",
   "execution_count": null,
   "id": "cd54b99e",
   "metadata": {},
   "outputs": [],
   "source": [
    "#https://school.programmers.co.kr/learn/courses/30/lessons/77885\n",
    "#bin으로 풀면 시간 초과\n",
    "\n",
    "def solution(numbers):\n",
    "    answer = []\n",
    "    \n",
    "    #numbers 순회\n",
    "    for number in numbers:\n",
    "        #number가 짝수 ==> 2진수는 반드시 0으로 끝남 ==> 1만 더해주면 됨\n",
    "        if number%2 == 0: \n",
    "            answer.append(number + 1)\n",
    "            continue\n",
    "            \n",
    "        #number가 홀수 ==> 가장 처음 0으로 끝나는 부분을 1로, 그 우측을 0으로 변경\n",
    "        num_bin = '0' + bin(number)[2:]\n",
    "        idx = num_bin.rfind('0')\n",
    "        num_arr = list(num_bin)\n",
    "        \n",
    "        num_arr[idx] = '1'\n",
    "        num_arr[idx+1] = '0'\n",
    "        answer.append(int(''.join(num_arr), 2))\n",
    "            \n",
    "            \n",
    "    \n",
    "    return answer"
   ]
  }
 ],
 "metadata": {
  "kernelspec": {
   "display_name": "Python 3 (ipykernel)",
   "language": "python",
   "name": "python3"
  },
  "language_info": {
   "codemirror_mode": {
    "name": "ipython",
    "version": 3
   },
   "file_extension": ".py",
   "mimetype": "text/x-python",
   "name": "python",
   "nbconvert_exporter": "python",
   "pygments_lexer": "ipython3",
   "version": "3.9.12"
  }
 },
 "nbformat": 4,
 "nbformat_minor": 5
}
