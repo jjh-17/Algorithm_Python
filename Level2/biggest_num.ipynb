{
 "cells": [
  {
   "cell_type": "markdown",
   "id": "454128e3",
   "metadata": {},
   "source": [
    "## 가장 큰 수\n",
    "https://school.programmers.co.kr/learn/courses/30/lessons/42746"
   ]
  },
  {
   "cell_type": "code",
   "execution_count": 1,
   "id": "c2cbc78c",
   "metadata": {},
   "outputs": [],
   "source": [
    "'''\n",
    "문자열에서는 서로 다른 길이의 문자열 A, B의 순서를 비교할 때\n",
    "짧은 길이의 문자열 까지의 element를 먼저 비교한다.\n",
    "\n",
    "A = '222'\n",
    "B = '221221221'\n",
    "이라 할 때, A[0~2], B[0~2]를 먼저 비교한다.\n",
    "A[2] > B[2]이므로 A가 B보다 크다\n",
    "\n",
    "'''\n",
    "\n",
    "def solution(numbers):\n",
    "    numbers = list(map(str, numbers))\n",
    "    numbers.sort(key = lambda x:x*3, reverse = True)\n",
    "    answer = str(int(''.join(numbers)))\n",
    "    return answer"
   ]
  },
  {
   "cell_type": "code",
   "execution_count": null,
   "id": "7c1a9f4a",
   "metadata": {},
   "outputs": [],
   "source": []
  }
 ],
 "metadata": {
  "kernelspec": {
   "display_name": "Python 3 (ipykernel)",
   "language": "python",
   "name": "python3"
  },
  "language_info": {
   "codemirror_mode": {
    "name": "ipython",
    "version": 3
   },
   "file_extension": ".py",
   "mimetype": "text/x-python",
   "name": "python",
   "nbconvert_exporter": "python",
   "pygments_lexer": "ipython3",
   "version": "3.9.12"
  }
 },
 "nbformat": 4,
 "nbformat_minor": 5
}
