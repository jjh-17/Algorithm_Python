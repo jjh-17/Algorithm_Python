{
 "cells": [
  {
   "cell_type": "markdown",
   "id": "33278b91",
   "metadata": {},
   "source": [
    "## 더 맵게\n",
    "https://school.programmers.co.kr/learn/courses/30/lessons/42626"
   ]
  },
  {
   "cell_type": "code",
   "execution_count": 1,
   "id": "b7f35e53",
   "metadata": {},
   "outputs": [],
   "source": [
    "import heapq\n",
    "\n",
    "def solution(scoville, K):\n",
    "    answer = 0\n",
    "    heap = []\n",
    "    for s in scoville:\n",
    "        heapq.heappush(heap, s)\n",
    "        \n",
    "    while True:\n",
    "        h1 = heapq.heappop(heap)\n",
    "        if h1 >= K:\n",
    "            heapq.heappush(heap, h1)\n",
    "            break\n",
    "        else:\n",
    "            if not heap:\n",
    "                answer = -1\n",
    "                break\n",
    "            else:\n",
    "                h2 = heapq.heappop(heap)\n",
    "                heapq.heappush(heap, h1 + 2*h2)\n",
    "                answer+=1\n",
    "    \n",
    "    return answer"
   ]
  },
  {
   "cell_type": "code",
   "execution_count": null,
   "id": "b4347556",
   "metadata": {},
   "outputs": [],
   "source": []
  }
 ],
 "metadata": {
  "kernelspec": {
   "display_name": "Python 3 (ipykernel)",
   "language": "python",
   "name": "python3"
  },
  "language_info": {
   "codemirror_mode": {
    "name": "ipython",
    "version": 3
   },
   "file_extension": ".py",
   "mimetype": "text/x-python",
   "name": "python",
   "nbconvert_exporter": "python",
   "pygments_lexer": "ipython3",
   "version": "3.9.12"
  }
 },
 "nbformat": 4,
 "nbformat_minor": 5
}
