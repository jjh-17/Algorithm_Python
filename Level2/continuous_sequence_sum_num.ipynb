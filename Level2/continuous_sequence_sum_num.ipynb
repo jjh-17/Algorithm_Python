{
 "cells": [
  {
   "cell_type": "markdown",
   "id": "37d94906",
   "metadata": {},
   "source": [
    "## 연속 부분 수열의 합의 개수\n",
    "https://school.programmers.co.kr/learn/courses/30/lessons/131701"
   ]
  },
  {
   "cell_type": "code",
   "execution_count": 1,
   "id": "0f0f07b0",
   "metadata": {},
   "outputs": [],
   "source": [
    "def solution(elements):\n",
    "    sum_set = set()\n",
    "    answer = 0\n",
    "    l = len(elements)\n",
    "    total = sum(elements)\n",
    "\n",
    "    #O(n^2)\n",
    "    for i in range(1, l//2 + 1): #연속된 길이\n",
    "        for j in range(l):       #시작 인덱스\n",
    "            arr = elements[j:min(j+i, l)] + elements[:max(j+i-l, 0)]\n",
    "            sum_set.add(sum(arr))\n",
    "            sum_set.add(total - sum(arr))  \n",
    "    sum_set.add(total)\n",
    "    \n",
    "    answer = len(sum_set)\n",
    "    return answer"
   ]
  },
  {
   "cell_type": "code",
   "execution_count": null,
   "id": "9671209d",
   "metadata": {},
   "outputs": [],
   "source": []
  }
 ],
 "metadata": {
  "kernelspec": {
   "display_name": "Python 3 (ipykernel)",
   "language": "python",
   "name": "python3"
  },
  "language_info": {
   "codemirror_mode": {
    "name": "ipython",
    "version": 3
   },
   "file_extension": ".py",
   "mimetype": "text/x-python",
   "name": "python",
   "nbconvert_exporter": "python",
   "pygments_lexer": "ipython3",
   "version": "3.9.12"
  }
 },
 "nbformat": 4,
 "nbformat_minor": 5
}
