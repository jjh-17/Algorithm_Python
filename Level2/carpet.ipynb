{
 "cells": [
  {
   "cell_type": "markdown",
   "id": "7f1a4067",
   "metadata": {},
   "source": [
    "## 카펫\n",
    "https://school.programmers.co.kr/learn/courses/30/lessons/42842"
   ]
  },
  {
   "cell_type": "code",
   "execution_count": 1,
   "id": "a3dbcf76",
   "metadata": {},
   "outputs": [],
   "source": [
    "def solution(brown, yellow):\n",
    "    answer = []\n",
    "    a = 3\n",
    "    total = brown + yellow\n",
    "    \n",
    "    while True:\n",
    "        b = total//a\n",
    "        if a*b==total and (a-2)*(b-2)==yellow:\n",
    "            answer = [max(a, b), min(a, b)]\n",
    "            break\n",
    "        a+=1\n",
    "        \n",
    "    \n",
    "    return answer"
   ]
  },
  {
   "cell_type": "code",
   "execution_count": null,
   "id": "7d1baf89",
   "metadata": {},
   "outputs": [],
   "source": []
  }
 ],
 "metadata": {
  "kernelspec": {
   "display_name": "Python 3 (ipykernel)",
   "language": "python",
   "name": "python3"
  },
  "language_info": {
   "codemirror_mode": {
    "name": "ipython",
    "version": 3
   },
   "file_extension": ".py",
   "mimetype": "text/x-python",
   "name": "python",
   "nbconvert_exporter": "python",
   "pygments_lexer": "ipython3",
   "version": "3.9.12"
  }
 },
 "nbformat": 4,
 "nbformat_minor": 5
}
