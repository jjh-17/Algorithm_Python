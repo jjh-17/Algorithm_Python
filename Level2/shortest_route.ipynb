{
 "cells": [
  {
   "cell_type": "markdown",
   "id": "bf6f0a9a",
   "metadata": {},
   "source": [
    "## 게임 맵 최단거리\n",
    "https://school.programmers.co.kr/learn/courses/30/lessons/1844"
   ]
  },
  {
   "cell_type": "code",
   "execution_count": 1,
   "id": "ba3f4e3d",
   "metadata": {},
   "outputs": [],
   "source": [
    "from collections import deque\n",
    "import numpy as np\n",
    "\n",
    "def solution(maps):\n",
    "    #visited를 사용하지 말고, 지나간 길을 0으로 막아도 가능하다.  \n",
    "    dx = [-1, 1, 0, 0]\n",
    "    dy = [0, 0, -1, 1]\n",
    "    m, n = np.shape(maps)\n",
    "    graph = [[-1 for _ in range(n)] for _ in range(m)]\n",
    "    queue = deque()\n",
    "    queue.append([0, 0])\n",
    "\n",
    "    graph[0][0] = 1\n",
    "\n",
    "    while queue:\n",
    "        y, x = queue.popleft()\n",
    "\n",
    "        # 현재 위치에서 4가지 방향으로 위치 확인\n",
    "        for i in range(4):\n",
    "            nx = x + dx[i]\n",
    "            ny = y + dy[i]\n",
    "\n",
    "            if 0 <= ny < m and 0 <= nx < n and maps[ny][nx] == 1:\n",
    "                if graph[ny][nx] == -1:\n",
    "                    graph[ny][nx] = graph[y][x] + 1\n",
    "                    queue.append([ny, nx])\n",
    "\n",
    "    answer = graph[-1][-1]\n",
    "    return answer"
   ]
  },
  {
   "cell_type": "code",
   "execution_count": null,
   "id": "9524ba7a",
   "metadata": {},
   "outputs": [],
   "source": []
  }
 ],
 "metadata": {
  "kernelspec": {
   "display_name": "Python 3 (ipykernel)",
   "language": "python",
   "name": "python3"
  },
  "language_info": {
   "codemirror_mode": {
    "name": "ipython",
    "version": 3
   },
   "file_extension": ".py",
   "mimetype": "text/x-python",
   "name": "python",
   "nbconvert_exporter": "python",
   "pygments_lexer": "ipython3",
   "version": "3.9.12"
  }
 },
 "nbformat": 4,
 "nbformat_minor": 5
}
