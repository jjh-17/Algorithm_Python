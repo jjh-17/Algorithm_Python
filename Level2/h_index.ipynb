{
 "cells": [
  {
   "cell_type": "markdown",
   "id": "e6bb5651",
   "metadata": {},
   "source": [
    "## h-index\n",
    "https://school.programmers.co.kr/learn/courses/30/lessons/42747"
   ]
  },
  {
   "cell_type": "code",
   "execution_count": 1,
   "id": "57e0ddd8",
   "metadata": {},
   "outputs": [],
   "source": [
    "def solution(citations):\n",
    "    citations.sort(reverse = True)\n",
    "    answer= len(citations)\n",
    "\n",
    "    for i, h in enumerate(citations):\n",
    "        if i >= h:\n",
    "            answer = i\n",
    "            break\n",
    "    \n",
    "    return answer"
   ]
  },
  {
   "cell_type": "code",
   "execution_count": null,
   "id": "66246dcd",
   "metadata": {},
   "outputs": [],
   "source": []
  }
 ],
 "metadata": {
  "kernelspec": {
   "display_name": "Python 3 (ipykernel)",
   "language": "python",
   "name": "python3"
  },
  "language_info": {
   "codemirror_mode": {
    "name": "ipython",
    "version": 3
   },
   "file_extension": ".py",
   "mimetype": "text/x-python",
   "name": "python",
   "nbconvert_exporter": "python",
   "pygments_lexer": "ipython3",
   "version": "3.9.12"
  }
 },
 "nbformat": 4,
 "nbformat_minor": 5
}
