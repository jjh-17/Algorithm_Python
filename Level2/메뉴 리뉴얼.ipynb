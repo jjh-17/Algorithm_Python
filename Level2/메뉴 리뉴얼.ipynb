{
 "cells": [
  {
   "cell_type": "code",
   "execution_count": null,
   "id": "a8a7f601",
   "metadata": {},
   "outputs": [],
   "source": [
    "#https://school.programmers.co.kr/learn/courses/30/lessons/72411\n",
    "\n",
    "from collections import defaultdict\n",
    "from itertools import combinations\n",
    "\n",
    "def solution(orders, course):\n",
    "    answer = []\n",
    "    dic_arr = []\n",
    "    dic = defaultdict(lambda : 0)\n",
    "    \n",
    "    #음식 조합 dictionary 설정\n",
    "    for order in orders:\n",
    "        order = ''.join(sorted(order))\n",
    "        \n",
    "        for i in range(1, len(order)+1):\n",
    "            combination =  list(combinations(order, i))\n",
    "            \n",
    "            for combi in combination:\n",
    "                dic[''.join(c for c in combi)] += 1\n",
    "    \n",
    "    #dic 정렬 ==> key 길이 오름차순, count 내림차순\n",
    "    dic = sorted(dic.items(), key = lambda x : (len(x[0]), -x[1]))\n",
    "            \n",
    "    #초기화\n",
    "    key, max_value = dic[0]\n",
    "    c_len = len(key)\n",
    "    if len(key) in course and max_value >= 2:\n",
    "        answer.append(key)\n",
    "        \n",
    "    for i in range(1, len(dic)):\n",
    "        k, v = dic[i]    \n",
    "        \n",
    "        #현재 key 값의 길이가 바뀌면 c_len, max_value 재설정\n",
    "        if c_len < len(k):\n",
    "            c_len = len(k)\n",
    "            max_value = v\n",
    "            \n",
    "        if c_len in course and max_value==v and v>=2:\n",
    "            answer.append(k)\n",
    "    \n",
    "    answer.sort()\n",
    "    \n",
    "    return answer"
   ]
  }
 ],
 "metadata": {
  "kernelspec": {
   "display_name": "Python 3 (ipykernel)",
   "language": "python",
   "name": "python3"
  },
  "language_info": {
   "codemirror_mode": {
    "name": "ipython",
    "version": 3
   },
   "file_extension": ".py",
   "mimetype": "text/x-python",
   "name": "python",
   "nbconvert_exporter": "python",
   "pygments_lexer": "ipython3",
   "version": "3.9.12"
  }
 },
 "nbformat": 4,
 "nbformat_minor": 5
}
