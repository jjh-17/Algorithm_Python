{
 "cells": [
  {
   "cell_type": "markdown",
   "id": "8a59c647",
   "metadata": {},
   "source": [
    "## 프린터\n",
    "https://school.programmers.co.kr/learn/courses/30/lessons/42587"
   ]
  },
  {
   "cell_type": "code",
   "execution_count": 1,
   "id": "4bd7ebce",
   "metadata": {},
   "outputs": [],
   "source": [
    "from collections import deque\n",
    "\n",
    "def solution(priorities, location):\n",
    "    answer = 0\n",
    "    queue = deque(priorities)\n",
    "    \n",
    "    while True:\n",
    "        if max(queue) == queue[0]: #출력\n",
    "            queue.popleft()\n",
    "            answer+=1\n",
    "            if location == 0:\n",
    "                break\n",
    "        else: #미출력\n",
    "            queue.rotate(-1)      \n",
    "        location = (location-1) if location>0 else (len(queue) -1)\n",
    "    \n",
    "    return answer"
   ]
  },
  {
   "cell_type": "code",
   "execution_count": null,
   "id": "7c295ea6",
   "metadata": {},
   "outputs": [],
   "source": []
  }
 ],
 "metadata": {
  "kernelspec": {
   "display_name": "Python 3 (ipykernel)",
   "language": "python",
   "name": "python3"
  },
  "language_info": {
   "codemirror_mode": {
    "name": "ipython",
    "version": 3
   },
   "file_extension": ".py",
   "mimetype": "text/x-python",
   "name": "python",
   "nbconvert_exporter": "python",
   "pygments_lexer": "ipython3",
   "version": "3.9.12"
  }
 },
 "nbformat": 4,
 "nbformat_minor": 5
}
