{
 "cells": [
  {
   "cell_type": "markdown",
   "id": "25cdd2ce",
   "metadata": {},
   "source": [
    "## 소수 찾기\n",
    "https://school.programmers.co.kr/learn/courses/30/lessons/42839"
   ]
  },
  {
   "cell_type": "code",
   "execution_count": 1,
   "id": "a31caf57",
   "metadata": {},
   "outputs": [],
   "source": [
    "'''\n",
    "combinations(iterable, r) : iterable에서 원소 개수가 r개인 조합 뽑기\n",
    "combinations_with_replacement(iterable,r) : iterable에서 원소 개수가 r개인 중복 조합 뽑기\n",
    "permutations(iterable,r=None) : iterable에서 원소 개수가 r개인 순열 뽑기\n",
    "product(*iterables, repeat=1) : 여러 iterable의 데카르트곱 리턴\n",
    "'''\n",
    "\n",
    "from itertools import permutations\n",
    "\n",
    "def solution(numbers):\n",
    "    #약수 개수 \n",
    "    def is_two(num):\n",
    "        if num == 1:\n",
    "            return False\n",
    "        elif num == 2:\n",
    "            return True\n",
    "        \n",
    "        for i in range(2, int(num**0.5)+1):\n",
    "            if num%i == 0:\n",
    "                return False\n",
    "        return True\n",
    "    \n",
    "    answer = 0\n",
    "    for i in range(1, len(numbers)+1):\n",
    "        per_set = set(permutations(list(numbers), i))\n",
    "        for per in per_set:\n",
    "            if per[0] == '0':\n",
    "                continue\n",
    "            per_num = int(''.join(per))\n",
    "            if is_two(per_num):\n",
    "                answer+=1\n",
    "    \n",
    "    \n",
    "    \n",
    "    return answer"
   ]
  },
  {
   "cell_type": "code",
   "execution_count": null,
   "id": "658aab8a",
   "metadata": {},
   "outputs": [],
   "source": []
  }
 ],
 "metadata": {
  "kernelspec": {
   "display_name": "Python 3 (ipykernel)",
   "language": "python",
   "name": "python3"
  },
  "language_info": {
   "codemirror_mode": {
    "name": "ipython",
    "version": 3
   },
   "file_extension": ".py",
   "mimetype": "text/x-python",
   "name": "python",
   "nbconvert_exporter": "python",
   "pygments_lexer": "ipython3",
   "version": "3.9.12"
  }
 },
 "nbformat": 4,
 "nbformat_minor": 5
}
