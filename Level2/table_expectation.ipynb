{
 "cells": [
  {
   "cell_type": "markdown",
   "id": "05f25c43",
   "metadata": {},
   "source": [
    "## 예상 대진표\n",
    "https://school.programmers.co.kr/learn/courses/30/lessons/12985"
   ]
  },
  {
   "cell_type": "code",
   "execution_count": 1,
   "id": "e7a04059",
   "metadata": {},
   "outputs": [],
   "source": [
    "def solution(n,a,b):\n",
    "    answer = 1\n",
    "\n",
    "    while True:\n",
    "        if (a-1)//2 == (b-1)//2:\n",
    "            break\n",
    "        else:\n",
    "            a = a//2 + a%2\n",
    "            b = b//2 + b%2\n",
    "            answer+=1\n",
    "\n",
    "    return answer"
   ]
  },
  {
   "cell_type": "code",
   "execution_count": null,
   "id": "32758ff8",
   "metadata": {},
   "outputs": [],
   "source": []
  }
 ],
 "metadata": {
  "kernelspec": {
   "display_name": "Python 3 (ipykernel)",
   "language": "python",
   "name": "python3"
  },
  "language_info": {
   "codemirror_mode": {
    "name": "ipython",
    "version": 3
   },
   "file_extension": ".py",
   "mimetype": "text/x-python",
   "name": "python",
   "nbconvert_exporter": "python",
   "pygments_lexer": "ipython3",
   "version": "3.9.12"
  }
 },
 "nbformat": 4,
 "nbformat_minor": 5
}
