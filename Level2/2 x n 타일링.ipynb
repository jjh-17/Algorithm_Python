{
 "cells": [
  {
   "cell_type": "code",
   "execution_count": null,
   "id": "eeceb5c1",
   "metadata": {},
   "outputs": [],
   "source": [
    "#https://school.programmers.co.kr/learn/courses/30/lessons/12900\n",
    "\n",
    "def solution(n):\n",
    "    answer = 0\n",
    "    dp = [1, 2]\n",
    "    \n",
    "    if n==1:\n",
    "        answer = dp[0]\n",
    "    elif n==2:\n",
    "        answer = dp[1]\n",
    "    else:\n",
    "        for i in range(n-2):\n",
    "            temp = dp[0]\n",
    "            dp[0] = dp[1]\n",
    "            dp[1] = temp + dp[0]\n",
    "        answer = dp[1]    \n",
    "    \n",
    "    return answer % 1000000007"
   ]
  }
 ],
 "metadata": {
  "kernelspec": {
   "display_name": "Python 3 (ipykernel)",
   "language": "python",
   "name": "python3"
  },
  "language_info": {
   "codemirror_mode": {
    "name": "ipython",
    "version": 3
   },
   "file_extension": ".py",
   "mimetype": "text/x-python",
   "name": "python",
   "nbconvert_exporter": "python",
   "pygments_lexer": "ipython3",
   "version": "3.9.12"
  }
 },
 "nbformat": 4,
 "nbformat_minor": 5
}
