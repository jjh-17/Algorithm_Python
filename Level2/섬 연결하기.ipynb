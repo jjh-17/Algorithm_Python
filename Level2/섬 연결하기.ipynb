{
 "cells": [
  {
   "cell_type": "code",
   "execution_count": null,
   "id": "d48e6b36",
   "metadata": {},
   "outputs": [],
   "source": [
    "#https://school.programmers.co.kr/learn/courses/30/lessons/42861\n",
    "\n",
    "#Kruskal algorithm : 탐욕법으로 네트워크 내 모든 정점을 최소 비용으로 연결\n",
    "def solution(n, costs):\n",
    "    answer = 0\n",
    "    costs.sort(key = lambda x : x[2])\n",
    "    routes = set([costs[0][0]]) #현재 들른 섬\n",
    "    \n",
    "    while len(routes) < n:\n",
    "        for i, cost in enumerate(costs):\n",
    "            if cost[0] in routes or cost[1] in routes:\n",
    "                if cost[0] in routes and cost[1] in routes:\n",
    "                    continue\n",
    "                \n",
    "                routes.update([cost[0], cost[1]])\n",
    "                answer += cost[2]\n",
    "                costs.pop(i)\n",
    "                break\n",
    "    \n",
    "    return answer"
   ]
  }
 ],
 "metadata": {
  "kernelspec": {
   "display_name": "Python 3 (ipykernel)",
   "language": "python",
   "name": "python3"
  },
  "language_info": {
   "codemirror_mode": {
    "name": "ipython",
    "version": 3
   },
   "file_extension": ".py",
   "mimetype": "text/x-python",
   "name": "python",
   "nbconvert_exporter": "python",
   "pygments_lexer": "ipython3",
   "version": "3.9.12"
  }
 },
 "nbformat": 4,
 "nbformat_minor": 5
}
