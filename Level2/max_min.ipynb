{
 "cells": [
  {
   "cell_type": "markdown",
   "id": "c067e876",
   "metadata": {},
   "source": [
    "## 최댓값과 최솟값\n",
    "https://school.programmers.co.kr/learn/courses/30/lessons/12939"
   ]
  },
  {
   "cell_type": "code",
   "execution_count": 1,
   "id": "6d178f37",
   "metadata": {},
   "outputs": [],
   "source": [
    "def solution(s):\n",
    "    arr = list(map(int, s.split(' ')))  \n",
    "    return str(min(arr)) + ' ' + str(max(arr))"
   ]
  },
  {
   "cell_type": "code",
   "execution_count": null,
   "id": "bd3dd861",
   "metadata": {},
   "outputs": [],
   "source": []
  }
 ],
 "metadata": {
  "kernelspec": {
   "display_name": "Python 3 (ipykernel)",
   "language": "python",
   "name": "python3"
  },
  "language_info": {
   "codemirror_mode": {
    "name": "ipython",
    "version": 3
   },
   "file_extension": ".py",
   "mimetype": "text/x-python",
   "name": "python",
   "nbconvert_exporter": "python",
   "pygments_lexer": "ipython3",
   "version": "3.9.12"
  }
 },
 "nbformat": 4,
 "nbformat_minor": 5
}
