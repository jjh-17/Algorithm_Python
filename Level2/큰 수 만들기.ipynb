{
 "cells": [
  {
   "cell_type": "code",
   "execution_count": null,
   "id": "b7aac8f6",
   "metadata": {},
   "outputs": [],
   "source": [
    "#https://school.programmers.co.kr/learn/courses/30/lessons/42883#\n",
    "\n",
    "def solution(number, k):\n",
    "    stack = []\n",
    "    answer = ''\n",
    "\n",
    "    for num in number:\n",
    "        while stack and stack[-1]<num and k:\n",
    "            stack.pop()\n",
    "            k-=1\n",
    "        stack.append(num)\n",
    "    \n",
    "    \n",
    "    #k가 남은 경우 ==> stack이 내림차순인 경우\n",
    "    if k:\n",
    "        stack = stack[:-k]\n",
    "    \n",
    "    answer = ''.join(stack)\n",
    "    \n",
    "    return answer"
   ]
  }
 ],
 "metadata": {
  "kernelspec": {
   "display_name": "Python 3 (ipykernel)",
   "language": "python",
   "name": "python3"
  },
  "language_info": {
   "codemirror_mode": {
    "name": "ipython",
    "version": 3
   },
   "file_extension": ".py",
   "mimetype": "text/x-python",
   "name": "python",
   "nbconvert_exporter": "python",
   "pygments_lexer": "ipython3",
   "version": "3.9.12"
  }
 },
 "nbformat": 4,
 "nbformat_minor": 5
}
