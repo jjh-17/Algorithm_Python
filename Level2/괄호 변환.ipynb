{
 "cells": [
  {
   "cell_type": "code",
   "execution_count": null,
   "id": "64e0e106",
   "metadata": {},
   "outputs": [],
   "source": [
    "#https://school.programmers.co.kr/learn/courses/30/lessons/60058\n",
    "\n",
    "def solution(p):\n",
    "    #문자열 w를 두 \"균형잡힌 괄호 문자열\" u, v로 분리\n",
    "    def divideStr(w):\n",
    "        c1, c2 = 0, 0\n",
    "    \n",
    "        for i, v in enumerate(w):\n",
    "            if v=='(':\n",
    "                c1+=1\n",
    "            else:\n",
    "                c2+=1\n",
    "        \n",
    "            if c1 == c2:\n",
    "                return w[0:i+1], w[i+1:]\n",
    "\n",
    "    #u가 \"올바른 괄호 문자열\"인지 확인\n",
    "    def checkStr(u):\n",
    "        stack = []\n",
    "    \n",
    "        for k in u:\n",
    "            if k=='(':\n",
    "                stack.append(k)\n",
    "            else:\n",
    "                if not stack:\n",
    "                    return False\n",
    "                stack.pop()\n",
    "    \n",
    "        return True\n",
    "    \n",
    "    \n",
    "    #1\n",
    "    if len(p) == 0:\n",
    "        return p\n",
    "    \n",
    "    #2\n",
    "    u, v = divideStr(p)\n",
    "        \n",
    "    #3, 4\n",
    "    if checkStr(u):\n",
    "        #3-1\n",
    "        return u + solution(v)\n",
    "    else:\n",
    "        #4-1,2,3\n",
    "        answer = '(' + solution(v) + ')'\n",
    "        \n",
    "        #4-4\n",
    "        for k in u[1:-1]:\n",
    "            if k=='(':\n",
    "                answer+=')'\n",
    "            else:\n",
    "                answer+='('\n",
    "                \n",
    "        #4-5\n",
    "        return answer"
   ]
  }
 ],
 "metadata": {
  "kernelspec": {
   "display_name": "Python 3 (ipykernel)",
   "language": "python",
   "name": "python3"
  },
  "language_info": {
   "codemirror_mode": {
    "name": "ipython",
    "version": 3
   },
   "file_extension": ".py",
   "mimetype": "text/x-python",
   "name": "python",
   "nbconvert_exporter": "python",
   "pygments_lexer": "ipython3",
   "version": "3.9.12"
  }
 },
 "nbformat": 4,
 "nbformat_minor": 5
}
