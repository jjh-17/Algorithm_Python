{
 "cells": [
  {
   "cell_type": "markdown",
   "id": "7a9069f8",
   "metadata": {},
   "source": [
    "## 전화번호 목록\n",
    "https://school.programmers.co.kr/learn/courses/30/lessons/42577"
   ]
  },
  {
   "cell_type": "code",
   "execution_count": 1,
   "id": "00623184",
   "metadata": {},
   "outputs": [],
   "source": [
    "def solution(phone_book):\n",
    "    answer = True\n",
    "    dic = dict()\n",
    "    \n",
    "    for p in phone_book:\n",
    "        dic[p] = 1\n",
    "        \n",
    "    for phone in phone_book:\n",
    "        temp = ''\n",
    "        \n",
    "        for p in phone:\n",
    "            temp += p\n",
    "            if temp in dic and temp!=phone:\n",
    "                return False\n",
    "        \n",
    "    \n",
    "    return answer"
   ]
  },
  {
   "cell_type": "code",
   "execution_count": null,
   "id": "c95bc6fd",
   "metadata": {},
   "outputs": [],
   "source": []
  }
 ],
 "metadata": {
  "kernelspec": {
   "display_name": "Python 3 (ipykernel)",
   "language": "python",
   "name": "python3"
  },
  "language_info": {
   "codemirror_mode": {
    "name": "ipython",
    "version": 3
   },
   "file_extension": ".py",
   "mimetype": "text/x-python",
   "name": "python",
   "nbconvert_exporter": "python",
   "pygments_lexer": "ipython3",
   "version": "3.9.12"
  }
 },
 "nbformat": 4,
 "nbformat_minor": 5
}
