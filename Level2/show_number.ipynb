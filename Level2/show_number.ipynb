{
 "cells": [
  {
   "cell_type": "markdown",
   "id": "e0f25163",
   "metadata": {},
   "source": [
    "## 숫자의 표현\n",
    "https://school.programmers.co.kr/learn/courses/30/lessons/12924"
   ]
  },
  {
   "cell_type": "code",
   "execution_count": 2,
   "id": "ad954030",
   "metadata": {},
   "outputs": [],
   "source": [
    "def solution(n):\n",
    "    answer = 0\n",
    "    \n",
    "    #홀수\n",
    "    for i in range(1, n+1):\n",
    "        sum=0\n",
    "        for j in range(i, n+1):\n",
    "            sum += j\n",
    "            if sum == n:\n",
    "                answer+=1\n",
    "            elif sum > n:\n",
    "                break\n",
    "    \n",
    "    return answer"
   ]
  },
  {
   "cell_type": "code",
   "execution_count": null,
   "id": "9008d946",
   "metadata": {},
   "outputs": [],
   "source": []
  }
 ],
 "metadata": {
  "kernelspec": {
   "display_name": "Python 3 (ipykernel)",
   "language": "python",
   "name": "python3"
  },
  "language_info": {
   "codemirror_mode": {
    "name": "ipython",
    "version": 3
   },
   "file_extension": ".py",
   "mimetype": "text/x-python",
   "name": "python",
   "nbconvert_exporter": "python",
   "pygments_lexer": "ipython3",
   "version": "3.9.12"
  }
 },
 "nbformat": 4,
 "nbformat_minor": 5
}
