{
 "cells": [
  {
   "cell_type": "markdown",
   "id": "7750c11e",
   "metadata": {},
   "source": [
    "## 최솟값 만들기\n",
    "https://school.programmers.co.kr/learn/courses/30/lessons/12941"
   ]
  },
  {
   "cell_type": "code",
   "execution_count": 1,
   "id": "bf29665f",
   "metadata": {},
   "outputs": [],
   "source": [
    "def solution(A,B):\n",
    "    answer = 0\n",
    "\n",
    "    A.sort()\n",
    "    B.sort(reverse = True)\n",
    "    for a, b in zip(A, B):\n",
    "        answer += a*b\n",
    "\n",
    "    return answer"
   ]
  },
  {
   "cell_type": "code",
   "execution_count": null,
   "id": "01b84e73",
   "metadata": {},
   "outputs": [],
   "source": []
  }
 ],
 "metadata": {
  "kernelspec": {
   "display_name": "Python 3 (ipykernel)",
   "language": "python",
   "name": "python3"
  },
  "language_info": {
   "codemirror_mode": {
    "name": "ipython",
    "version": 3
   },
   "file_extension": ".py",
   "mimetype": "text/x-python",
   "name": "python",
   "nbconvert_exporter": "python",
   "pygments_lexer": "ipython3",
   "version": "3.9.12"
  }
 },
 "nbformat": 4,
 "nbformat_minor": 5
}
