{
 "cells": [
  {
   "cell_type": "markdown",
   "id": "42a9df81",
   "metadata": {},
   "source": [
    "## 멀리 뛰기\n",
    "https://school.programmers.co.kr/learn/courses/30/lessons/12914"
   ]
  },
  {
   "cell_type": "code",
   "execution_count": 1,
   "id": "e63395e4",
   "metadata": {},
   "outputs": [],
   "source": [
    "from math import factorial\n",
    "\n",
    "def solution(n):\n",
    "    answer = 0\n",
    "    \n",
    "    for i in range(0, n+1):\n",
    "        count1 = i\n",
    "        if (n-i)%2==0:\n",
    "            count2 = (n-i)//2\n",
    "            answer += (factorial(count1 + count2)//(factorial(count1)*factorial(count2)))\n",
    "            \n",
    "    return answer%1234567"
   ]
  },
  {
   "cell_type": "code",
   "execution_count": null,
   "id": "105988f3",
   "metadata": {},
   "outputs": [],
   "source": []
  }
 ],
 "metadata": {
  "kernelspec": {
   "display_name": "Python 3 (ipykernel)",
   "language": "python",
   "name": "python3"
  },
  "language_info": {
   "codemirror_mode": {
    "name": "ipython",
    "version": 3
   },
   "file_extension": ".py",
   "mimetype": "text/x-python",
   "name": "python",
   "nbconvert_exporter": "python",
   "pygments_lexer": "ipython3",
   "version": "3.9.12"
  }
 },
 "nbformat": 4,
 "nbformat_minor": 5
}
