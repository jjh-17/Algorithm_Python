{
 "cells": [
  {
   "cell_type": "markdown",
   "id": "1c460040",
   "metadata": {},
   "source": [
    "## 124나라의 숫자\n",
    "https://school.programmers.co.kr/learn/courses/30/lessons/12899"
   ]
  },
  {
   "cell_type": "code",
   "execution_count": 1,
   "id": "7ecb2fb9",
   "metadata": {},
   "outputs": [],
   "source": [
    "from math import ceil\n",
    "\n",
    "def solution(n):\n",
    "    answer = ''\n",
    "    arr = ['1', '2', '4']\n",
    "    \n",
    "    while n:\n",
    "        n-=1\n",
    "        answer = arr[n%3] + answer\n",
    "        n = n//3\n",
    "        \n",
    "    \n",
    "    return answer"
   ]
  },
  {
   "cell_type": "code",
   "execution_count": null,
   "id": "fbbdcfc3",
   "metadata": {},
   "outputs": [],
   "source": []
  }
 ],
 "metadata": {
  "kernelspec": {
   "display_name": "Python 3 (ipykernel)",
   "language": "python",
   "name": "python3"
  },
  "language_info": {
   "codemirror_mode": {
    "name": "ipython",
    "version": 3
   },
   "file_extension": ".py",
   "mimetype": "text/x-python",
   "name": "python",
   "nbconvert_exporter": "python",
   "pygments_lexer": "ipython3",
   "version": "3.9.12"
  }
 },
 "nbformat": 4,
 "nbformat_minor": 5
}
