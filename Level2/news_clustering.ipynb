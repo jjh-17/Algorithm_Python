{
 "cells": [
  {
   "cell_type": "markdown",
   "id": "cb69f419",
   "metadata": {},
   "source": [
    "## 뉴스 클러스트링\n",
    "https://school.programmers.co.kr/learn/courses/30/lessons/17677"
   ]
  },
  {
   "cell_type": "code",
   "execution_count": 1,
   "id": "04a8dd02",
   "metadata": {},
   "outputs": [],
   "source": [
    "from collections import defaultdict\n",
    "\n",
    "def solution(str1, str2):\n",
    "    answer = 0\n",
    "    arr1 = []\n",
    "    arr2 = []\n",
    "    counter1 = defaultdict(lambda : 0)\n",
    "    counter2 = defaultdict(lambda : 0)\n",
    "    \n",
    "    #중복을 허용하는 집합 생성\n",
    "    str1 = str1.lower()\n",
    "    for i in range(len(str1) - 1):\n",
    "        new_str = str1[i] + str1[i+1]\n",
    "        if new_str.isalpha():\n",
    "            arr1.append(new_str)\n",
    "            counter1[new_str]+=1\n",
    "            \n",
    "    str2 = str2.lower()\n",
    "    for i in range(len(str2) - 1):\n",
    "        new_str = str2[i] + str2[i+1]\n",
    "        if new_str.isalpha():\n",
    "            arr2.append(new_str)\n",
    "            counter2[new_str]+=1\n",
    "            \n",
    "    #둘다 공집합일 경우 65536\n",
    "    if not arr1 and not arr2:\n",
    "        return 65536\n",
    "    \n",
    "    #합집합, 교집합\n",
    "    set_sum = 0\n",
    "    for a in set(arr1)|set(arr2):\n",
    "        set_sum += max(counter1[a], counter2[a])\n",
    "        \n",
    "    set_dif = 0\n",
    "    for a in set(arr1)&set(arr2):\n",
    "        set_dif += min(counter1[a], counter2[a])\n",
    "    answer = int((set_dif/set_sum)*65536)\n",
    "    \n",
    "        \n",
    "    return answer"
   ]
  },
  {
   "cell_type": "code",
   "execution_count": null,
   "id": "feb6129f",
   "metadata": {},
   "outputs": [],
   "source": []
  }
 ],
 "metadata": {
  "kernelspec": {
   "display_name": "Python 3 (ipykernel)",
   "language": "python",
   "name": "python3"
  },
  "language_info": {
   "codemirror_mode": {
    "name": "ipython",
    "version": 3
   },
   "file_extension": ".py",
   "mimetype": "text/x-python",
   "name": "python",
   "nbconvert_exporter": "python",
   "pygments_lexer": "ipython3",
   "version": "3.9.12"
  }
 },
 "nbformat": 4,
 "nbformat_minor": 5
}
