{
 "cells": [
  {
   "cell_type": "markdown",
   "id": "a170f64b",
   "metadata": {},
   "source": [
    "## n^2 배열 자르기\n",
    "https://school.programmers.co.kr/learn/courses/30/lessons/87390"
   ]
  },
  {
   "cell_type": "code",
   "execution_count": 1,
   "id": "d075da94",
   "metadata": {},
   "outputs": [],
   "source": [
    "def solution(n, left, right):\n",
    "    answer = []\n",
    "    '''\n",
    "    시간 초과 : N^2\n",
    "    for i in range(n):\n",
    "        for j in range(n):\n",
    "            answer.append(max(i, j)+1)\n",
    "    answer = answer[left:right+1]\n",
    "    '''\n",
    "    \n",
    "    for i in range(left, right+1):\n",
    "        answer.append(max(i//n, i%n) + 1)\n",
    "    \n",
    "    \n",
    "    return answer"
   ]
  },
  {
   "cell_type": "code",
   "execution_count": null,
   "id": "19b043e0",
   "metadata": {},
   "outputs": [],
   "source": []
  }
 ],
 "metadata": {
  "kernelspec": {
   "display_name": "Python 3 (ipykernel)",
   "language": "python",
   "name": "python3"
  },
  "language_info": {
   "codemirror_mode": {
    "name": "ipython",
    "version": 3
   },
   "file_extension": ".py",
   "mimetype": "text/x-python",
   "name": "python",
   "nbconvert_exporter": "python",
   "pygments_lexer": "ipython3",
   "version": "3.9.12"
  }
 },
 "nbformat": 4,
 "nbformat_minor": 5
}
