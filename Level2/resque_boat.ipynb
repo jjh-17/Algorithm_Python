{
 "cells": [
  {
   "cell_type": "markdown",
   "id": "42c5a1ba",
   "metadata": {},
   "source": [
    "## 구명 보트\n",
    "https://school.programmers.co.kr/learn/courses/30/lessons/42885"
   ]
  },
  {
   "cell_type": "code",
   "execution_count": 1,
   "id": "ae592164",
   "metadata": {},
   "outputs": [],
   "source": [
    "def solution(people, limit):\n",
    "    answer = 0\n",
    "    people.sort(reverse = True)\n",
    "    \n",
    "    start = 0\n",
    "    end = len(people) -1\n",
    "    while True:\n",
    "        if start > end:\n",
    "            break\n",
    "        elif start == end:\n",
    "            answer += 1\n",
    "            break\n",
    "        else:\n",
    "            if people[start] + people[end] <= limit:\n",
    "                start+=1\n",
    "                end-=1\n",
    "                answer+=1\n",
    "            else:\n",
    "                start+=1\n",
    "                answer+=1\n",
    "                \n",
    "    return answer"
   ]
  },
  {
   "cell_type": "code",
   "execution_count": null,
   "id": "19e990c9",
   "metadata": {},
   "outputs": [],
   "source": []
  }
 ],
 "metadata": {
  "kernelspec": {
   "display_name": "Python 3 (ipykernel)",
   "language": "python",
   "name": "python3"
  },
  "language_info": {
   "codemirror_mode": {
    "name": "ipython",
    "version": 3
   },
   "file_extension": ".py",
   "mimetype": "text/x-python",
   "name": "python",
   "nbconvert_exporter": "python",
   "pygments_lexer": "ipython3",
   "version": "3.9.12"
  }
 },
 "nbformat": 4,
 "nbformat_minor": 5
}
