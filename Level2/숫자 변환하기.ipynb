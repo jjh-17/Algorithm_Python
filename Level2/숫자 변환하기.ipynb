{
 "cells": [
  {
   "cell_type": "code",
   "execution_count": null,
   "id": "7c56adb7",
   "metadata": {},
   "outputs": [],
   "source": [
    "#https://school.programmers.co.kr/learn/courses/30/lessons/154538\n",
    "\n",
    "def solution(x, y, n):    \n",
    "    '''\n",
    "    시간 초과\n",
    "    queue = [[x, 0]] #[현재 값, 연산 횟수]\n",
    "    \n",
    "    while queue:\n",
    "        a, count = queue.pop(0)\n",
    "        \n",
    "        if a == y:\n",
    "            return count\n",
    "        elif a > y:\n",
    "            continue\n",
    "            \n",
    "        queue.append([a+n, count+1])\n",
    "        queue.append([a*2, count+1])\n",
    "        queue.append([a*3, count+1])\n",
    "    \n",
    "    return -1\n",
    "    '''\n",
    "\n",
    "    #다이나믹 프로그래밍\n",
    "    dp = [1000001]*(y+1)\n",
    "    dp[x] = 0\n",
    "    \n",
    "    if x==y:\n",
    "        return 0\n",
    "    \n",
    "    for i in range(x, y+1):\n",
    "        if dp[i] == 1000001:\n",
    "            continue\n",
    "        \n",
    "        if i+n <= y:\n",
    "            dp[i+n] = min(dp[i] + 1, dp[i+n])\n",
    "            \n",
    "        if i*2 <= y:\n",
    "            dp[i*2] = min(dp[i] + 1, dp[i*2])\n",
    "            \n",
    "        if i*3 <= y:\n",
    "            dp[i*3] = min(dp[i] + 1, dp[i*3])\n",
    "            \n",
    "    if dp[y] == 1000001:\n",
    "        return -1\n",
    "    \n",
    "    return dp[y]\n",
    "    "
   ]
  }
 ],
 "metadata": {
  "kernelspec": {
   "display_name": "Python 3 (ipykernel)",
   "language": "python",
   "name": "python3"
  },
  "language_info": {
   "codemirror_mode": {
    "name": "ipython",
    "version": 3
   },
   "file_extension": ".py",
   "mimetype": "text/x-python",
   "name": "python",
   "nbconvert_exporter": "python",
   "pygments_lexer": "ipython3",
   "version": "3.9.12"
  }
 },
 "nbformat": 4,
 "nbformat_minor": 5
}
