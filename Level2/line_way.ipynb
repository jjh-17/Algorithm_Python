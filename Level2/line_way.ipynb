{
 "cells": [
  {
   "cell_type": "markdown",
   "id": "c3639ee6",
   "metadata": {},
   "source": [
    "## 줄서는 방법\n",
    "https://school.programmers.co.kr/learn/courses/30/lessons/12936"
   ]
  },
  {
   "cell_type": "code",
   "execution_count": 1,
   "id": "0ca29f18",
   "metadata": {},
   "outputs": [],
   "source": [
    "from math import factorial\n",
    "\n",
    "def solution(n, k):\n",
    "    answer = []\n",
    "    arr = [i+1 for i in range(n)]\n",
    "    \n",
    "    while arr:\n",
    "        f = factorial(n-1)\n",
    "        idx = k//f\n",
    "        k = k%f\n",
    "        n -= 1\n",
    "        if k == 0:\n",
    "            answer.append(arr.pop(idx-1))\n",
    "        else:\n",
    "            answer.append(arr.pop(idx))\n",
    "    \n",
    "    return answer"
   ]
  },
  {
   "cell_type": "code",
   "execution_count": null,
   "id": "807ebbd0",
   "metadata": {},
   "outputs": [],
   "source": []
  }
 ],
 "metadata": {
  "kernelspec": {
   "display_name": "Python 3 (ipykernel)",
   "language": "python",
   "name": "python3"
  },
  "language_info": {
   "codemirror_mode": {
    "name": "ipython",
    "version": 3
   },
   "file_extension": ".py",
   "mimetype": "text/x-python",
   "name": "python",
   "nbconvert_exporter": "python",
   "pygments_lexer": "ipython3",
   "version": "3.9.12"
  }
 },
 "nbformat": 4,
 "nbformat_minor": 5
}
