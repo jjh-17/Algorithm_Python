{
 "cells": [
  {
   "cell_type": "markdown",
   "id": "d1f62321",
   "metadata": {},
   "source": [
    "## 단속 카메라\n",
    "https://school.programmers.co.kr/learn/courses/30/lessons/42884"
   ]
  },
  {
   "cell_type": "code",
   "execution_count": 1,
   "id": "0b2504b5",
   "metadata": {},
   "outputs": [],
   "source": [
    "def solution(routes):\n",
    "    answer = 0\n",
    "    routes.sort(key = lambda x:x[1])\n",
    "    camera = -30001\n",
    "    \n",
    "    for r in routes:\n",
    "        if r[0] <= camera <= r[1]:\n",
    "            continue\n",
    "        else:\n",
    "            answer+=1\n",
    "            camera = r[1]\n",
    "    \n",
    "    \n",
    "    return answer"
   ]
  },
  {
   "cell_type": "code",
   "execution_count": null,
   "id": "fa12a0a6",
   "metadata": {},
   "outputs": [],
   "source": []
  }
 ],
 "metadata": {
  "kernelspec": {
   "display_name": "Python 3 (ipykernel)",
   "language": "python",
   "name": "python3"
  },
  "language_info": {
   "codemirror_mode": {
    "name": "ipython",
    "version": 3
   },
   "file_extension": ".py",
   "mimetype": "text/x-python",
   "name": "python",
   "nbconvert_exporter": "python",
   "pygments_lexer": "ipython3",
   "version": "3.9.12"
  }
 },
 "nbformat": 4,
 "nbformat_minor": 5
}
