{
 "cells": [
  {
   "cell_type": "markdown",
   "id": "2964a5e2",
   "metadata": {},
   "source": [
    "## 야근 지수\n",
    "https://school.programmers.co.kr/learn/courses/30/lessons/12927"
   ]
  },
  {
   "cell_type": "code",
   "execution_count": 1,
   "id": "fe99684a",
   "metadata": {},
   "outputs": [],
   "source": [
    "import heapq\n",
    "\n",
    "def solution(n, works):\n",
    "    answer = 0\n",
    "    \n",
    "    #각 원소의 값은 최소한으로\n",
    "    if sum(works) > n:\n",
    "        heap = []\n",
    "        \n",
    "        for w in works:\n",
    "            heapq.heappush(heap, -w)\n",
    "            \n",
    "        for i in range(n):\n",
    "            h =  heapq.heappop(heap)\n",
    "            heapq.heappush(heap, h+1)\n",
    "    \n",
    "        for v in heap:\n",
    "            answer += v**2\n",
    "        \n",
    "        \n",
    "    return answer"
   ]
  },
  {
   "cell_type": "code",
   "execution_count": null,
   "id": "60e9ec8c",
   "metadata": {},
   "outputs": [],
   "source": []
  }
 ],
 "metadata": {
  "kernelspec": {
   "display_name": "Python 3 (ipykernel)",
   "language": "python",
   "name": "python3"
  },
  "language_info": {
   "codemirror_mode": {
    "name": "ipython",
    "version": 3
   },
   "file_extension": ".py",
   "mimetype": "text/x-python",
   "name": "python",
   "nbconvert_exporter": "python",
   "pygments_lexer": "ipython3",
   "version": "3.9.12"
  }
 },
 "nbformat": 4,
 "nbformat_minor": 5
}
