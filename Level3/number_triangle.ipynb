{
 "cells": [
  {
   "cell_type": "markdown",
   "id": "ad313cd2",
   "metadata": {},
   "source": [
    "## 정수 삼각형\n",
    "https://school.programmers.co.kr/learn/courses/30/lessons/43105"
   ]
  },
  {
   "cell_type": "code",
   "execution_count": 1,
   "id": "66adb745",
   "metadata": {},
   "outputs": [],
   "source": [
    "def solution(triangle):\n",
    "    answer = 0\n",
    "    \n",
    "    for i in range(1, len(triangle)):\n",
    "        tri = triangle[i]\n",
    "        for j in range(len(tri)):\n",
    "            if j==0:\n",
    "                triangle[i][j] += triangle[i-1][0]\n",
    "            elif j==len(tri)-1:\n",
    "                triangle[i][j] += triangle[i-1][j-1]\n",
    "            else:\n",
    "                triangle[i][j] += max(triangle[i-1][j-1], triangle[i-1][j])\n",
    "    answer = max(triangle[-1])\n",
    "    \n",
    "    return answer"
   ]
  },
  {
   "cell_type": "code",
   "execution_count": null,
   "id": "8e3bb429",
   "metadata": {},
   "outputs": [],
   "source": []
  }
 ],
 "metadata": {
  "kernelspec": {
   "display_name": "Python 3 (ipykernel)",
   "language": "python",
   "name": "python3"
  },
  "language_info": {
   "codemirror_mode": {
    "name": "ipython",
    "version": 3
   },
   "file_extension": ".py",
   "mimetype": "text/x-python",
   "name": "python",
   "nbconvert_exporter": "python",
   "pygments_lexer": "ipython3",
   "version": "3.9.12"
  }
 },
 "nbformat": 4,
 "nbformat_minor": 5
}
