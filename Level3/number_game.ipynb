{
 "cells": [
  {
   "cell_type": "markdown",
   "id": "f3fafbe4",
   "metadata": {},
   "source": [
    "## 숫자 게임\n",
    "https://school.programmers.co.kr/learn/courses/30/lessons/12987"
   ]
  },
  {
   "cell_type": "code",
   "execution_count": 1,
   "id": "1b7b3496",
   "metadata": {},
   "outputs": [],
   "source": [
    "def solution(A, B):\n",
    "    answer = 0\n",
    "    \n",
    "    #내림차순 정렬 ==> A가 고정되어 있다고 A의 순서를 바꾸면 안된다는 뜻은 아님\n",
    "    #B는 유동적이니 A를 정렬한 순대로 B를 배치하면 결과적으로 같음!\n",
    "    A.sort(reverse = True)\n",
    "    B.sort(reverse = True)\n",
    "    \n",
    "    #A와 B비교 ==> A>=B라면 그 다음 A와 현재 B를 비교한다.\n",
    "    a, b = 0, 0\n",
    "    for i in range(len(A)):\n",
    "        if A[a] >= B[b]:\n",
    "            a+=1\n",
    "        else:\n",
    "            answer+=1\n",
    "            a+=1\n",
    "            b+=1\n",
    "            \n",
    "    \n",
    "    \n",
    "    return answer"
   ]
  },
  {
   "cell_type": "code",
   "execution_count": null,
   "id": "15d46e7c",
   "metadata": {},
   "outputs": [],
   "source": []
  }
 ],
 "metadata": {
  "kernelspec": {
   "display_name": "Python 3 (ipykernel)",
   "language": "python",
   "name": "python3"
  },
  "language_info": {
   "codemirror_mode": {
    "name": "ipython",
    "version": 3
   },
   "file_extension": ".py",
   "mimetype": "text/x-python",
   "name": "python",
   "nbconvert_exporter": "python",
   "pygments_lexer": "ipython3",
   "version": "3.9.12"
  }
 },
 "nbformat": 4,
 "nbformat_minor": 5
}
