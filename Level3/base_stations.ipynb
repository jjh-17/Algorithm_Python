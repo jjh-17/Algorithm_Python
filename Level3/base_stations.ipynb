{
 "cells": [
  {
   "cell_type": "markdown",
   "id": "975c5cb9",
   "metadata": {},
   "source": [
    "## 기지국 설치\n",
    "https://school.programmers.co.kr/learn/courses/30/lessons/12979"
   ]
  },
  {
   "cell_type": "code",
   "execution_count": 1,
   "id": "819918a8",
   "metadata": {},
   "outputs": [],
   "source": [
    "from math import ceil\n",
    "\n",
    "def solution(n, stations, w):\n",
    "    answer = 0\n",
    "    w_range = 2*w+1\n",
    "    start = 1\n",
    "    \n",
    "    for s in stations:\n",
    "        end = s-w-1\n",
    "        if end-start>=0:\n",
    "            answer+=ceil((end-start+1)/w_range)\n",
    "        start = s+w+1\n",
    "            \n",
    "    if n>=start:\n",
    "        answer+=ceil((n-start+1)/w_range)\n",
    "        \n",
    "    \n",
    "\n",
    "    return answer"
   ]
  },
  {
   "cell_type": "code",
   "execution_count": null,
   "id": "9da208d0",
   "metadata": {},
   "outputs": [],
   "source": []
  }
 ],
 "metadata": {
  "kernelspec": {
   "display_name": "Python 3 (ipykernel)",
   "language": "python",
   "name": "python3"
  },
  "language_info": {
   "codemirror_mode": {
    "name": "ipython",
    "version": 3
   },
   "file_extension": ".py",
   "mimetype": "text/x-python",
   "name": "python",
   "nbconvert_exporter": "python",
   "pygments_lexer": "ipython3",
   "version": "3.9.12"
  }
 },
 "nbformat": 4,
 "nbformat_minor": 5
}
