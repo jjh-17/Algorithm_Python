{
 "cells": [
  {
   "cell_type": "markdown",
   "id": "dffed7bb",
   "metadata": {},
   "source": [
    "## 이중 우선순위 큐\n",
    "https://school.programmers.co.kr/learn/courses/30/lessons/42628"
   ]
  },
  {
   "cell_type": "code",
   "execution_count": 1,
   "id": "97d9c722",
   "metadata": {},
   "outputs": [],
   "source": [
    "import heapq\n",
    "\n",
    "def solution(operations):\n",
    "    answer = []\n",
    "    queue = []\n",
    "    \n",
    "    for op in operations:\n",
    "        if op[0] == 'I':\n",
    "            num = int(op[2:])\n",
    "            heapq.heappush(queue, num)\n",
    "        else:\n",
    "            if queue:\n",
    "                if op=='D 1':\n",
    "                    queue.pop()\n",
    "                else:\n",
    "                    heapq.heappop(queue)\n",
    "                    \n",
    "    if queue:\n",
    "        answer = [max(queue), min(queue)]\n",
    "    else:\n",
    "        answer = [0, 0]\n",
    "    return answer"
   ]
  },
  {
   "cell_type": "code",
   "execution_count": null,
   "id": "886e2043",
   "metadata": {},
   "outputs": [],
   "source": []
  }
 ],
 "metadata": {
  "kernelspec": {
   "display_name": "Python 3 (ipykernel)",
   "language": "python",
   "name": "python3"
  },
  "language_info": {
   "codemirror_mode": {
    "name": "ipython",
    "version": 3
   },
   "file_extension": ".py",
   "mimetype": "text/x-python",
   "name": "python",
   "nbconvert_exporter": "python",
   "pygments_lexer": "ipython3",
   "version": "3.9.12"
  }
 },
 "nbformat": 4,
 "nbformat_minor": 5
}
