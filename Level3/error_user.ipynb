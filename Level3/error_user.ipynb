{
 "cells": [
  {
   "cell_type": "markdown",
   "id": "e241793f",
   "metadata": {},
   "source": [
    "## 불량 사용자\n",
    "https://school.programmers.co.kr/learn/courses/30/lessons/64064"
   ]
  },
  {
   "cell_type": "code",
   "execution_count": 1,
   "id": "2f3e2a81",
   "metadata": {},
   "outputs": [],
   "source": [
    "from itertools import permutations\n",
    "\n",
    "def solution(user_id, banned_id):\n",
    "    answer = 0\n",
    "    answer_id = []\n",
    "    \n",
    "    for comb in permutations(user_id, len(banned_id)):\n",
    "        count = 0\n",
    "        flag = True\n",
    "        for user, ban in zip(comb, banned_id):\n",
    "            if len(user) == len(ban):\n",
    "                for u, b in zip(user, ban):\n",
    "                    if b!='*' and u!=b:\n",
    "                        flag = False\n",
    "                        break\n",
    "                if flag:\n",
    "                    count+=1\n",
    "            else:\n",
    "                break                        \n",
    "                \n",
    "        if count == len(banned_id):\n",
    "            if set(comb) not in answer_id:\n",
    "                answer+=1\n",
    "                answer_id.append(set(comb))\n",
    "\n",
    "    return answer"
   ]
  },
  {
   "cell_type": "code",
   "execution_count": null,
   "id": "9213564d",
   "metadata": {},
   "outputs": [],
   "source": []
  }
 ],
 "metadata": {
  "kernelspec": {
   "display_name": "Python 3 (ipykernel)",
   "language": "python",
   "name": "python3"
  },
  "language_info": {
   "codemirror_mode": {
    "name": "ipython",
    "version": 3
   },
   "file_extension": ".py",
   "mimetype": "text/x-python",
   "name": "python",
   "nbconvert_exporter": "python",
   "pygments_lexer": "ipython3",
   "version": "3.9.12"
  }
 },
 "nbformat": 4,
 "nbformat_minor": 5
}
