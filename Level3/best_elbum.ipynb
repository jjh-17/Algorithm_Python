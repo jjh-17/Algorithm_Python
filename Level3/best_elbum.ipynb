{
 "cells": [
  {
   "cell_type": "markdown",
   "id": "91dba85d",
   "metadata": {},
   "source": [
    "## 베스트 엘범\n",
    "https://school.programmers.co.kr/learn/courses/30/lessons/42579"
   ]
  },
  {
   "cell_type": "code",
   "execution_count": 1,
   "id": "acdd2cfa",
   "metadata": {},
   "outputs": [],
   "source": [
    "from collections import defaultdict\n",
    "\n",
    "def solution(genres, plays):\n",
    "    answer = []\n",
    "    g_dic = defaultdict(lambda : 0)     #장르별 총 재생횟수\n",
    "    song_arr = [] #(장르, 노래 재생횟수, 고유번호)\n",
    "    \n",
    "    for i, (g, p) in enumerate(zip(genres, plays)):\n",
    "        g_dic[g] += p\n",
    "        song_arr.append((g, p, i))\n",
    "    genre_arr = sorted(g_dic.keys(), key = lambda x: -g_dic[x]) #수록할 장르 순\n",
    "    song_arr.sort(key = lambda x : (-g_dic[x[0]], -x[1], x[2]))\n",
    "    \n",
    "    counter = 0\n",
    "    current_g = ''\n",
    "    for song in song_arr:\n",
    "        if current_g != song[0]: #기존 장르와 현재 장르가 다르다면 기존 장르를 현재 장르로 변경 및 추가\n",
    "            answer.append(song[2])\n",
    "            current_g = song[0]\n",
    "            counter = 1\n",
    "        else: #기존 장르==현재 장르일 때\n",
    "            #answer에 속한 현재 장르 노래의 개수가 2개일 때는 넘어간다. \n",
    "            if counter == 2:\n",
    "                continue\n",
    "            answer.append(song[2])\n",
    "            counter+=1\n",
    "            \n",
    "        \n",
    "    return answer"
   ]
  },
  {
   "cell_type": "code",
   "execution_count": null,
   "id": "4789521f",
   "metadata": {},
   "outputs": [],
   "source": []
  }
 ],
 "metadata": {
  "kernelspec": {
   "display_name": "Python 3 (ipykernel)",
   "language": "python",
   "name": "python3"
  },
  "language_info": {
   "codemirror_mode": {
    "name": "ipython",
    "version": 3
   },
   "file_extension": ".py",
   "mimetype": "text/x-python",
   "name": "python",
   "nbconvert_exporter": "python",
   "pygments_lexer": "ipython3",
   "version": "3.9.12"
  }
 },
 "nbformat": 4,
 "nbformat_minor": 5
}
