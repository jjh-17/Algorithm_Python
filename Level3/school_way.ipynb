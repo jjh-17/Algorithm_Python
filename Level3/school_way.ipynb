{
 "cells": [
  {
   "cell_type": "markdown",
   "id": "09d07c55",
   "metadata": {},
   "source": [
    "## 등굣길\n",
    "https://school.programmers.co.kr/learn/courses/30/lessons/42898"
   ]
  },
  {
   "cell_type": "code",
   "execution_count": 1,
   "id": "442b5a46",
   "metadata": {},
   "outputs": [],
   "source": [
    "def solution(m, n, puddles):\n",
    "    answer = 0\n",
    "    dp = [([0]*m) for i in range(n)]\n",
    "    \n",
    "    dp[0][0] = 1\n",
    "    for i in range(n):\n",
    "        for j in range(m):\n",
    "            if [j+1, i+1] in puddles:\n",
    "                continue\n",
    "                \n",
    "            if i > 0:\n",
    "                dp[i][j] += dp[i-1][j]\n",
    "            if j > 0:\n",
    "                dp[i][j] += dp[i][j-1]\n",
    "                \n",
    "    answer = dp[-1][-1]%1000000007\n",
    "    \n",
    "    return answer"
   ]
  },
  {
   "cell_type": "code",
   "execution_count": null,
   "id": "949cf5cb",
   "metadata": {},
   "outputs": [],
   "source": []
  }
 ],
 "metadata": {
  "kernelspec": {
   "display_name": "Python 3 (ipykernel)",
   "language": "python",
   "name": "python3"
  },
  "language_info": {
   "codemirror_mode": {
    "name": "ipython",
    "version": 3
   },
   "file_extension": ".py",
   "mimetype": "text/x-python",
   "name": "python",
   "nbconvert_exporter": "python",
   "pygments_lexer": "ipython3",
   "version": "3.9.12"
  }
 },
 "nbformat": 4,
 "nbformat_minor": 5
}
