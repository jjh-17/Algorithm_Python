{
 "cells": [
  {
   "cell_type": "markdown",
   "id": "65ed63f2",
   "metadata": {},
   "source": [
    "## 거스름돈\n",
    "https://school.programmers.co.kr/learn/courses/30/lessons/12907"
   ]
  },
  {
   "cell_type": "code",
   "execution_count": 1,
   "id": "584a627e",
   "metadata": {},
   "outputs": [],
   "source": [
    "def solution(n, money):\n",
    "    answer = 0\n",
    "    dp = [0]*(n+1)\n",
    "    \n",
    "    for coin in money:\n",
    "        dp[coin] += 1  \n",
    "        for price in range(coin, n+1):\n",
    "            #price를 만드는 방법은 price-coin을 만드는 방법을 계속하여 더한 것\n",
    "            dp[price] += dp[price-coin]\n",
    "            \n",
    "    return dp[n] % 1000000007"
   ]
  },
  {
   "cell_type": "code",
   "execution_count": null,
   "id": "04c36d51",
   "metadata": {},
   "outputs": [],
   "source": []
  }
 ],
 "metadata": {
  "kernelspec": {
   "display_name": "Python 3 (ipykernel)",
   "language": "python",
   "name": "python3"
  },
  "language_info": {
   "codemirror_mode": {
    "name": "ipython",
    "version": 3
   },
   "file_extension": ".py",
   "mimetype": "text/x-python",
   "name": "python",
   "nbconvert_exporter": "python",
   "pygments_lexer": "ipython3",
   "version": "3.9.12"
  }
 },
 "nbformat": 4,
 "nbformat_minor": 5
}
