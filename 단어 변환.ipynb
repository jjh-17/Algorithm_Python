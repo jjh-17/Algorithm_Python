{
 "cells": [
  {
   "cell_type": "code",
   "execution_count": null,
   "id": "aa68bf85",
   "metadata": {},
   "outputs": [],
   "source": [
    "#https://school.programmers.co.kr/learn/courses/30/lessons/43163\n",
    "\n",
    "def solution(begin, target, words):\n",
    "    answer = 0\n",
    "    visited = [False for i in range(len(words))]\n",
    "    queue = []\n",
    "    queue.append([begin, 0])\n",
    "    \n",
    "    #bfs\n",
    "    while queue:\n",
    "        c_word, c_count = queue.pop(0)\n",
    "        \n",
    "        if c_word==target:\n",
    "            answer = c_count\n",
    "            break\n",
    "        \n",
    "        for idx, word in enumerate(words):\n",
    "            tmp_count=0\n",
    "            \n",
    "            if not visited[idx]:\n",
    "                for cw, w in zip(c_word, word):\n",
    "                    if cw!=w:\n",
    "                        tmp_count+=1\n",
    "            \n",
    "                #c_word와 word가 단어 하나 차이\n",
    "                if tmp_count==1:\n",
    "                    queue.append([word, c_count+1])\n",
    "                    visited[idx] = True\n",
    "    \n",
    "    \n",
    "    return answer"
   ]
  }
 ],
 "metadata": {
  "kernelspec": {
   "display_name": "Python 3 (ipykernel)",
   "language": "python",
   "name": "python3"
  },
  "language_info": {
   "codemirror_mode": {
    "name": "ipython",
    "version": 3
   },
   "file_extension": ".py",
   "mimetype": "text/x-python",
   "name": "python",
   "nbconvert_exporter": "python",
   "pygments_lexer": "ipython3",
   "version": "3.9.12"
  }
 },
 "nbformat": 4,
 "nbformat_minor": 5
}
